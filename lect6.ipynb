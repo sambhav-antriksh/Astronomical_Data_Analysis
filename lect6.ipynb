{
  "cells": [
    {
      "cell_type": "markdown",
      "metadata": {
        "id": "wNgNe_z0Jzla"
      },
      "source": [
        "Astronomical data analysis using Python\n",
        "===\n",
        "\n",
        "Lecture 6\n",
        "-------"
      ]
    },
    {
      "cell_type": "markdown",
      "metadata": {
        "id": "YU5RRf2DJzlb"
      },
      "source": [
        "# List Comprehension"
      ]
    },
    {
      "cell_type": "code",
      "execution_count": null,
      "metadata": {
        "colab": {
          "base_uri": "https://localhost:8080/"
        },
        "id": "xbenhbE9Jzlc",
        "outputId": "91437ad1-e80f-4fe1-9642-fa87659d3aed"
      },
      "outputs": [
        {
          "output_type": "stream",
          "name": "stdout",
          "text": [
            "['Pune', 'Mumbai', 'Gauhati']\n"
          ]
        }
      ],
      "source": [
        "cities = [\"Pune\", \"Mumbai\", \"Delhi\", \"Gauhati\", \"Chennai\"]\n",
        "newlist = []\n",
        "\n",
        "for x in cities:\n",
        "  if \"u\" in x:\n",
        "    newlist.append(x)\n",
        "\n",
        "print(newlist)"
      ]
    },
    {
      "cell_type": "code",
      "execution_count": null,
      "metadata": {
        "colab": {
          "base_uri": "https://localhost:8080/"
        },
        "id": "SWl_YBfIJzlc",
        "outputId": "024d9a85-a9a0-4217-f762-258e217a97ea"
      },
      "outputs": [
        {
          "output_type": "stream",
          "name": "stdout",
          "text": [
            "['Pune', 'Mumbai', 'Gauhati']\n"
          ]
        }
      ],
      "source": [
        "cities = [\"Pune\", \"Mumbai\", \"Delhi\", \"Gauhati\", \"Chennai\"]\n",
        "\n",
        "newlist = [x for x in cities if \"u\" in x]\n",
        "\n",
        "print(newlist)"
      ]
    },
    {
      "cell_type": "code",
      "source": [
        "x=[1,2,3]\n",
        "\n",
        "my_list=[y for y in x if y<4]\n",
        "\n",
        "print(my_list)\n",
        "\n",
        "#you do not need to append the list by explicitly writing append."
      ],
      "metadata": {
        "colab": {
          "base_uri": "https://localhost:8080/"
        },
        "id": "cgAPN-vCMBJy",
        "outputId": "088f3355-a384-403a-afd7-d11001e580cd"
      },
      "execution_count": null,
      "outputs": [
        {
          "output_type": "stream",
          "name": "stdout",
          "text": [
            "[1, 2, 3]\n"
          ]
        }
      ]
    },
    {
      "cell_type": "markdown",
      "metadata": {
        "id": "ILmd5OwpJzlc"
      },
      "source": [
        "# List comprehension syntax\n",
        "\n",
        "`newlist = [expression for item in iterable if condition == True]`\n",
        "\n",
        "The old list remains unchanged in the list comprehension. The iterable can be any iterable including a list. The if condition is optional."
      ]
    },
    {
      "cell_type": "code",
      "execution_count": null,
      "metadata": {
        "colab": {
          "base_uri": "https://localhost:8080/"
        },
        "id": "koyIpRSWJzld",
        "outputId": "175c2b3a-ba04-4994-9c19-50e97a693593"
      },
      "outputs": [
        {
          "output_type": "stream",
          "name": "stdout",
          "text": [
            "[4, 5, 6]\n"
          ]
        }
      ],
      "source": [
        "newlist = [x for x in range(10) if (x < 7) & (x >3)]\n",
        "print (newlist)"
      ]
    },
    {
      "cell_type": "markdown",
      "metadata": {
        "id": "OTRaAj-eJzld"
      },
      "source": [
        "# Nested lists"
      ]
    },
    {
      "cell_type": "code",
      "execution_count": null,
      "metadata": {
        "colab": {
          "base_uri": "https://localhost:8080/"
        },
        "id": "DJrdLpXEJzld",
        "outputId": "c7cca399-1cb4-4658-d502-5503fef3d2fd"
      },
      "outputs": [
        {
          "output_type": "stream",
          "name": "stdout",
          "text": [
            "[(0, 0), (0, 1), (0, 2), (1, 0), (1, 1), (1, 2), (2, 0), (2, 1), (2, 2)]\n"
          ]
        }
      ],
      "source": [
        "k = [ (i,j) for i in range(3) for j in range(3) ]\n",
        "print (k)"
      ]
    },
    {
      "cell_type": "markdown",
      "metadata": {
        "id": "j_x26GRTJzld"
      },
      "source": [
        "# List Comprehensions - Dos and Donts\n",
        "\n",
        "For simple for-loops like we saw earlier, you SHOULD use list comprehensions.\n",
        "In fact, list comprehensions run faster than traditional loops.\n",
        "\n",
        "But,\n",
        "\n",
        "List comprehensions, especially nested ones, can obfuscate code.\n",
        "In such a case, it's better to use elaborate loops."
      ]
    },
    {
      "cell_type": "markdown",
      "metadata": {
        "id": "GhDIPxsDJzld"
      },
      "source": [
        "# Installing third party modules\n",
        "\n",
        "See the instructions at:\n",
        "\n",
        "https://docs.python.org/3/installing/index.html\n",
        "\n",
        "Please install `numpy, scipy, matplotlib, astropy, astroquery` modules on your computer.\n",
        "Except for `astroquery` all modules are also available in Google Colab. Even astroquery can be installed on Google Colab using `!pip install astroquery`\n",
        "\n"
      ]
    },
    {
      "cell_type": "code",
      "source": [
        "import numpy\n",
        "import scipy\n",
        "import matplotlib\n",
        "import astropy\n",
        "!pip install astroquery\n"
      ],
      "metadata": {
        "colab": {
          "base_uri": "https://localhost:8080/"
        },
        "id": "0SFvxS0cN1OY",
        "outputId": "d086e5f5-b98e-4609-b81b-cd2ef2b875c9"
      },
      "execution_count": null,
      "outputs": [
        {
          "output_type": "stream",
          "name": "stdout",
          "text": [
            "Requirement already satisfied: astroquery in /usr/local/lib/python3.10/dist-packages (0.4.7)\n",
            "Requirement already satisfied: numpy>=1.18 in /usr/local/lib/python3.10/dist-packages (from astroquery) (1.26.4)\n",
            "Requirement already satisfied: astropy>=4.2.1 in /usr/local/lib/python3.10/dist-packages (from astroquery) (6.1.4)\n",
            "Requirement already satisfied: requests>=2.19 in /usr/local/lib/python3.10/dist-packages (from astroquery) (2.32.3)\n",
            "Requirement already satisfied: beautifulsoup4>=4.8 in /usr/local/lib/python3.10/dist-packages (from astroquery) (4.12.3)\n",
            "Requirement already satisfied: html5lib>=0.999 in /usr/local/lib/python3.10/dist-packages (from astroquery) (1.1)\n",
            "Requirement already satisfied: keyring>=15.0 in /usr/lib/python3/dist-packages (from astroquery) (23.5.0)\n",
            "Requirement already satisfied: pyvo>=1.1 in /usr/local/lib/python3.10/dist-packages (from astroquery) (1.5.3)\n",
            "Requirement already satisfied: pyerfa>=2.0.1.1 in /usr/local/lib/python3.10/dist-packages (from astropy>=4.2.1->astroquery) (2.0.1.4)\n",
            "Requirement already satisfied: astropy-iers-data>=0.2024.8.27.10.28.29 in /usr/local/lib/python3.10/dist-packages (from astropy>=4.2.1->astroquery) (0.2024.10.7.0.32.46)\n",
            "Requirement already satisfied: PyYAML>=3.13 in /usr/local/lib/python3.10/dist-packages (from astropy>=4.2.1->astroquery) (6.0.2)\n",
            "Requirement already satisfied: packaging>=19.0 in /usr/local/lib/python3.10/dist-packages (from astropy>=4.2.1->astroquery) (24.1)\n",
            "Requirement already satisfied: soupsieve>1.2 in /usr/local/lib/python3.10/dist-packages (from beautifulsoup4>=4.8->astroquery) (2.6)\n",
            "Requirement already satisfied: six>=1.9 in /usr/local/lib/python3.10/dist-packages (from html5lib>=0.999->astroquery) (1.16.0)\n",
            "Requirement already satisfied: webencodings in /usr/local/lib/python3.10/dist-packages (from html5lib>=0.999->astroquery) (0.5.1)\n",
            "Requirement already satisfied: charset-normalizer<4,>=2 in /usr/local/lib/python3.10/dist-packages (from requests>=2.19->astroquery) (3.4.0)\n",
            "Requirement already satisfied: idna<4,>=2.5 in /usr/local/lib/python3.10/dist-packages (from requests>=2.19->astroquery) (3.10)\n",
            "Requirement already satisfied: urllib3<3,>=1.21.1 in /usr/local/lib/python3.10/dist-packages (from requests>=2.19->astroquery) (2.2.3)\n",
            "Requirement already satisfied: certifi>=2017.4.17 in /usr/local/lib/python3.10/dist-packages (from requests>=2.19->astroquery) (2024.8.30)\n"
          ]
        }
      ]
    },
    {
      "cell_type": "code",
      "source": [
        "import astroquery"
      ],
      "metadata": {
        "id": "ID5qRD4UOm9U"
      },
      "execution_count": null,
      "outputs": []
    },
    {
      "cell_type": "markdown",
      "metadata": {
        "id": "6cIVodkzJzld"
      },
      "source": [
        "# Python data processing using lists is very slow\n",
        "\n",
        "Compared to compiled languages, for loops in Python run extremely slowly. The alternative is to define a more restrictive data structure than a list - **a numpy array**. Unlike lists, a numpy array contains data of only one type.\n",
        "\n",
        "In exchange for this restriction, numpy arrays provide for unprecendented speed and convenience and make numerical computation practically possible in Python. The high speed of numpy is due to the fact that its underlying, highly optimised code is written in C.\n",
        "\n",
        "**All scientific and technical computing in Python today makes use of `numpy` in one way or another.**"
      ]
    },
    {
      "cell_type": "markdown",
      "metadata": {
        "id": "bFmPHGHCJzld"
      },
      "source": [
        "Adding two arrays - the slow Python way\n",
        "==="
      ]
    },
    {
      "cell_type": "code",
      "execution_count": null,
      "metadata": {
        "colab": {
          "base_uri": "https://localhost:8080/"
        },
        "id": "jggWX9UaJzld",
        "outputId": "d2a32803-c074-4214-dfe7-777c4f9b741c"
      },
      "outputs": [
        {
          "output_type": "stream",
          "name": "stdout",
          "text": [
            "[1, 2, 4, 4, 8, 6]\n"
          ]
        }
      ],
      "source": [
        "l1=[1,2,4]; l2=[4,8,6]\n",
        "print (l1+l2)"
      ]
    },
    {
      "cell_type": "code",
      "execution_count": null,
      "metadata": {
        "colab": {
          "base_uri": "https://localhost:8080/"
        },
        "id": "EQ6tRUjOJzld",
        "outputId": "2411dab5-a4ec-4d93-dcfc-076ed556aaf2"
      },
      "outputs": [
        {
          "output_type": "stream",
          "name": "stdout",
          "text": [
            "[5, 10, 10]\n"
          ]
        }
      ],
      "source": [
        "l3 = [0]*3\n",
        "for i in range(3):\n",
        "    l3[i] = l1[i] +l2[i]\n",
        "\n",
        "print (l3)"
      ]
    },
    {
      "cell_type": "markdown",
      "metadata": {
        "id": "Gf0O3rXYJzld"
      },
      "source": [
        "What we ideally want\n",
        "==="
      ]
    },
    {
      "cell_type": "markdown",
      "metadata": {
        "id": "tlm1W0hmJzld"
      },
      "source": [
        "We want `print (l1+l2)` to give us `[5,10,10]`\n",
        "\n",
        "Such behaviour is common in Fortran 90, Matlab, IDL"
      ]
    },
    {
      "cell_type": "markdown",
      "metadata": {
        "id": "xCRUvVduJzld"
      },
      "source": [
        "Creating an n-dimensional array - numpy.ndarray\n",
        "==="
      ]
    },
    {
      "cell_type": "code",
      "execution_count": null,
      "metadata": {
        "colab": {
          "base_uri": "https://localhost:8080/"
        },
        "id": "C5NnbPb8Jzle",
        "outputId": "4a004268-bd18-46ff-a57e-41f7e4dea667"
      },
      "outputs": [
        {
          "output_type": "stream",
          "name": "stdout",
          "text": [
            "1.26.4\n",
            "<class 'numpy.ndarray'>\n",
            "<class 'numpy.ndarray'>\n"
          ]
        }
      ],
      "source": [
        "import numpy as np\n",
        "print (np.version.version)\n",
        "\n",
        "a = np.array([1,2,3]) # Argument to np.array can be a list\n",
        "b = np.array((1,2,3)) # or a tuple\n",
        "print (type(a))\n",
        "print (type(b))\n"
      ]
    },
    {
      "cell_type": "markdown",
      "metadata": {
        "id": "VP2dtGXQJzle"
      },
      "source": [
        "Adding Arrays with numpy\n",
        "==="
      ]
    },
    {
      "cell_type": "code",
      "execution_count": null,
      "metadata": {
        "colab": {
          "base_uri": "https://localhost:8080/"
        },
        "id": "YTOP8EJ8Jzle",
        "outputId": "4d9ae71b-bef9-4af3-bf2f-b488217cdfa8"
      },
      "outputs": [
        {
          "output_type": "stream",
          "name": "stdout",
          "text": [
            "[1, 2, 3, 4, 5, 6]\n",
            "[5 7 9]\n"
          ]
        }
      ],
      "source": [
        "l1 = [1,2,3]\n",
        "l2=[4,5,6]\n",
        "a1 = np.array(l1)\n",
        "a2 = np.array(l2)\n",
        "print (l1+l2)\n",
        "print (a1+a2)"
      ]
    },
    {
      "cell_type": "markdown",
      "metadata": {
        "id": "ANJeNbF9Jzle"
      },
      "source": [
        "Arithmetic operations in numpy\n",
        "==="
      ]
    },
    {
      "cell_type": "code",
      "execution_count": null,
      "metadata": {
        "colab": {
          "base_uri": "https://localhost:8080/"
        },
        "id": "pFqKkW8bJzle",
        "outputId": "64f97535-6182-4051-fcc9-73efaa2b0b35"
      },
      "outputs": [
        {
          "output_type": "stream",
          "name": "stdout",
          "text": [
            "[5 7 9]\n",
            "[-3 -3 -3]\n",
            "[ 4 10 18]\n",
            "[0.25 0.4  0.5 ]\n",
            "[0 1 0]\n",
            "[1 4 9]\n"
          ]
        }
      ],
      "source": [
        "print (a1+a2) # addition\n",
        "print (a1-a2) # substraction\n",
        "print (a1*a2) # multiplication\n",
        "print (a1/a2) # division\n",
        "print (a2%a1) # modulo\n",
        "print (a1**2) # elementwise squared"
      ]
    },
    {
      "cell_type": "markdown",
      "metadata": {
        "id": "XnIxoxNMJzle"
      },
      "source": [
        "Numpy ufuncs\n",
        "==="
      ]
    },
    {
      "cell_type": "markdown",
      "metadata": {
        "id": "ldfBPo0nJzle"
      },
      "source": [
        "add (+) log  greater (>) subtract (-) log10 greater_equal ($>=$)\n",
        "\n",
        "multiply (*) cos  less (<) divide (/) arcos less_equal (<=)\n",
        "\n",
        "remainder (%) sin logical_and absolute abs arcsin logical_or\n",
        "\n",
        "floor tan logical_xor ceil  arctan  bitwise_and (&)\n",
        "\n",
        "fmod cosh bitwise_or (|) conjugate sinh  bitwise_xor (^)\n",
        "\n",
        "minimum tanh bitwise_not (~) maximum  sqrt rshift (>>)\n",
        "\n",
        "power (**) equal (==) lshift (<<) exp not_equal (!=)\n"
      ]
    },
    {
      "cell_type": "markdown",
      "metadata": {
        "id": "SEX_ppWzJzle"
      },
      "source": [
        "Why is an array not a list?\n",
        "==="
      ]
    },
    {
      "cell_type": "markdown",
      "metadata": {
        "id": "ie2m6d2VJzle"
      },
      "source": [
        "A numpy array is a table of elements (usually numbers),\n",
        "all of the __same__ type."
      ]
    },
    {
      "cell_type": "markdown",
      "metadata": {
        "id": "zz3EHLqtJzle"
      },
      "source": [
        "Implicit and explicit datatype declaration\n",
        "==="
      ]
    },
    {
      "cell_type": "code",
      "execution_count": null,
      "metadata": {
        "colab": {
          "base_uri": "https://localhost:8080/"
        },
        "id": "tDTX5pTxJzle",
        "outputId": "5a3470fc-92c5-45ea-dae5-1b1019f68f7c"
      },
      "outputs": [
        {
          "output_type": "stream",
          "name": "stdout",
          "text": [
            "int64\n",
            "float64\n",
            "complex128\n",
            "<built-in method copy of numpy.ndarray object at 0x7c7ff724da10>\n"
          ]
        }
      ],
      "source": [
        "import numpy as np\n",
        "ai = np.array([1, 2, 3])\n",
        "af = np.array([1, 2, 3.])\n",
        "ac = np.array([1j, 2, 3.])\n",
        "print (ai.dtype)\n",
        "print (af.dtype)\n",
        "print (ac.dtype)\n",
        "af = np.array([1,2,3], dtype=float)\n",
        "ac = np.array([1,2,3], complex)\n",
        "afn = np.array([1,2],np.double) # numpy float type\n",
        "\n"
      ]
    },
    {
      "cell_type": "markdown",
      "metadata": {
        "id": "dSVlWxJSJzle"
      },
      "source": [
        "Numpy float datatypes\n",
        "==="
      ]
    },
    {
      "cell_type": "markdown",
      "metadata": {
        "id": "C5UFORqiJzle"
      },
      "source": [
        "* `np.float` (== Python float type)\n",
        "* `np.float32` (single precision)\n",
        "* `np.float64` (double precision)\n",
        "* `np.double` (synonym, double prec.)\n",
        "* `np.longdouble` (very platform dependent !!! np.float96 or np.float128)"
      ]
    },
    {
      "cell_type": "markdown",
      "metadata": {
        "id": "rFpKvSeFJzle"
      },
      "source": [
        "Other numpy datatypes\n",
        "==="
      ]
    },
    {
      "cell_type": "markdown",
      "metadata": {
        "id": "0_7l6o00Jzle"
      },
      "source": [
        "* Integer datatypes `np.int8 ...int16 ...int32 ...int64`\n",
        "* Unsigned (!) integer datatypes `np.uint8 ...uint16 ...uint32 ...uint64`\n",
        "* Complex datatypes `np.complex64 ...complex128...complex256`\n",
        "* Boolean `np.bool`\n"
      ]
    },
    {
      "cell_type": "markdown",
      "metadata": {
        "id": "4tQSd9I7Jzle"
      },
      "source": [
        "Defining your own datatypes\n",
        "===\n"
      ]
    },
    {
      "cell_type": "code",
      "execution_count": null,
      "metadata": {
        "colab": {
          "base_uri": "https://localhost:8080/"
        },
        "id": "Me7iXCy5Jzlf",
        "outputId": "0da808cd-757f-4e81-a197-a9ee92559af3"
      },
      "outputs": [
        {
          "output_type": "stream",
          "name": "stdout",
          "text": [
            "<class 'str'>\n",
            "[  0 100]\n",
            "[ True False]\n",
            "100\n",
            "True\n"
          ]
        }
      ],
      "source": [
        "dt= np.dtype([('value',np.int64),('status',bool)]) # creating a new data type\n",
        "a = np.array([(0,True),(100,False)],dtype=dt)\n",
        "print (a['value'])\n",
        "print (a['status'])\n",
        "print (a['value'][1])\n",
        "print (a[0]['status'])"
      ]
    },
    {
      "cell_type": "markdown",
      "source": [],
      "metadata": {
        "id": "a-_uSf_QWdzU"
      }
    },
    {
      "cell_type": "markdown",
      "metadata": {
        "id": "rq1wVDDpJzlf"
      },
      "source": [
        "Structured arrays are sometimes quite useful for reading binary data."
      ]
    },
    {
      "cell_type": "markdown",
      "metadata": {
        "id": "hzGU3yCzJzlf"
      },
      "source": [
        "Convenience functions to create arrays\n",
        "==="
      ]
    },
    {
      "cell_type": "code",
      "execution_count": null,
      "metadata": {
        "colab": {
          "base_uri": "https://localhost:8080/"
        },
        "id": "94oloanXJzlf",
        "outputId": "9b4103a7-3cd3-4828-adcb-916b16944e28"
      },
      "outputs": [
        {
          "output_type": "stream",
          "name": "stdout",
          "text": [
            "[0 0 0]\n",
            "[1. 1. 1. 1. 1. 1. 1. 1. 1. 1.]\n",
            "[1. 1. 1. 1. 1. 1. 1. 1. 1. 1.]\n",
            "[0. 0. 0. 0. 0. 0. 0. 0. 0. 0.]\n",
            "[1. 1. 1. 1. 1. 1. 1. 1. 1. 1.]\n"
          ]
        }
      ],
      "source": [
        "z = np.zeros(3,dtype=int)\n",
        "print (z)\n",
        "o = np.ones(10)\n",
        "print (o)\n",
        "e = np.empty(10) # very fast, use only if array elements are guaranteed to be initialised\n",
        "print (e) # uninitialised values, could be anything!(y)\n",
        "print (np.zeros_like(e))\n",
        "print (np.ones_like(e)) #to create the same size of array as e\n"
      ]
    },
    {
      "cell_type": "markdown",
      "metadata": {
        "id": "Blk77ui5Jzlf"
      },
      "source": [
        "Multidimensional Arrays\n",
        "==="
      ]
    },
    {
      "cell_type": "code",
      "execution_count": null,
      "metadata": {
        "colab": {
          "base_uri": "https://localhost:8080/"
        },
        "id": "EDpseQT6Jzlf",
        "outputId": "0cd841bf-de0f-4d85-c5c2-432c1f9b21e2"
      },
      "outputs": [
        {
          "output_type": "stream",
          "name": "stdout",
          "text": [
            "[[1, 2, 3], [4, 5, 6]]\n",
            "[[1 2 3]\n",
            " [4 5 6]]\n"
          ]
        }
      ],
      "source": [
        "l2 = [[1,2,3],[4,5,6]]\n",
        "a2 = np.array(l2)\n",
        "print (l2)\n",
        "print (a2)\n"
      ]
    },
    {
      "cell_type": "markdown",
      "metadata": {
        "id": "bFrvWuv1Jzli"
      },
      "source": [
        "Swapping of  axes\n",
        "==="
      ]
    },
    {
      "cell_type": "markdown",
      "metadata": {
        "id": "cDBLc8TJJzli"
      },
      "source": [
        "Note that, like C (and unlike FORTRAN), Python is 0-indexed and the\n",
        "indices have the slowest axis first and fast axis last, i.e. for a 2-D\n",
        "image, the fast axis (X-axis) which corresponds to the FITS NAXIS1\n",
        "keyword, is the second index.\n",
        "\n",
        "How best to handle this?\n"
      ]
    },
    {
      "cell_type": "markdown",
      "metadata": {
        "id": "7tOEPupvJzli"
      },
      "source": [
        "Accessing Arrays\n",
        "==="
      ]
    },
    {
      "cell_type": "code",
      "execution_count": null,
      "metadata": {
        "colab": {
          "base_uri": "https://localhost:8080/"
        },
        "id": "fwnEsUn7Jzli",
        "outputId": "c22c1a9f-a429-4659-f90d-37f3c1848ccf"
      },
      "outputs": [
        {
          "output_type": "stream",
          "name": "stdout",
          "text": [
            "[[1 2 3]\n",
            " [4 5 6]]\n",
            "2\n",
            "2\n",
            "2\n",
            "[2 3]\n",
            "[1 4]\n"
          ]
        }
      ],
      "source": [
        "print(a2)\n",
        "print (l2[0][1])\n",
        "print (a2[0][1])\n",
        "print (a2[0,1]) # works only with\n",
        "print (a2[0,1:]) # arrays !!!\n",
        "print (a2[:,0]) #\n",
        "#np.array(row,coloumn)"
      ]
    },
    {
      "cell_type": "markdown",
      "metadata": {
        "id": "mJHagFuMJzlj"
      },
      "source": [
        "Determine size and shape\n",
        "==="
      ]
    },
    {
      "cell_type": "code",
      "execution_count": null,
      "metadata": {
        "colab": {
          "base_uri": "https://localhost:8080/"
        },
        "id": "4YtPGEtEJzlj",
        "outputId": "44b73a2f-a7b3-4ced-e886-c10b771719d4"
      },
      "outputs": [
        {
          "output_type": "stream",
          "name": "stdout",
          "text": [
            "2 3\n",
            "2 3\n",
            "(2, 3)\n"
          ]
        }
      ],
      "source": [
        "# determine the dimensions\n",
        "# remember: l2=[[1,2,3],[4,5,6]]\n",
        "# how many rows, how many columns ?\n",
        "\n",
        "print (len(l2), len(l2[0]))\n",
        "\n",
        "print (len(a2), len(a2[0]))\n",
        "\n",
        "print (a2.shape) # shape attribute\n"
      ]
    },
    {
      "cell_type": "markdown",
      "metadata": {
        "id": "x5XDw54-Jzlj"
      },
      "source": [
        "Array attributes\n",
        "==="
      ]
    },
    {
      "cell_type": "markdown",
      "metadata": {
        "id": "Pj3bd-iHJzlj"
      },
      "source": [
        "* `array.ndim`: number of dimensions\n",
        "* `array.shape`: the dimensions\n",
        "* `array.size`: total number of elements\n",
        "* `array.dtype`: type of the data\n"
      ]
    },
    {
      "cell_type": "markdown",
      "metadata": {
        "id": "Gn7fwmLfJzlj"
      },
      "source": [
        "Initialising multidimensional arrays\n",
        "==="
      ]
    },
    {
      "cell_type": "code",
      "execution_count": null,
      "metadata": {
        "colab": {
          "base_uri": "https://localhost:8080/"
        },
        "id": "K2y-pmB-Jzlj",
        "outputId": "2221d290-1e2d-48b4-db0a-54a72cb43e93"
      },
      "outputs": [
        {
          "output_type": "stream",
          "name": "stdout",
          "text": [
            "[[1. 1. 1. 1. 1. 1. 1. 1. 1. 1.]\n",
            " [1. 1. 1. 1. 1. 1. 1. 1. 1. 1.]\n",
            " [1. 1. 1. 1. 1. 1. 1. 1. 1. 1.]]\n"
          ]
        }
      ],
      "source": [
        "# np.zeros, np.ones, et al.\n",
        "# can be used to create multidim\n",
        "# arrays, too !\n",
        "\n",
        "o = np.ones( (3,10) )\n",
        "\n",
        "e = np.empty( (4,2,19),dtype= int)\n",
        "\n"
      ]
    },
    {
      "cell_type": "markdown",
      "metadata": {
        "id": "QkdgB9vcJzlj"
      },
      "source": [
        "Convenience functions\n",
        "==="
      ]
    },
    {
      "cell_type": "code",
      "execution_count": null,
      "metadata": {
        "id": "8DqzUHGxJzlj"
      },
      "outputs": [],
      "source": [
        "b = np.linspace(-2.5,1.5,17)\n",
        "\n",
        "# 17 equally spaced numbers from -2.5 to 1.5\n",
        "# including the boundary values !\n",
        "\n",
        "c = np.arange(-2.5,1.51,0.25)\n",
        "# Unreliable because upperbound excluded, rounding errors, use linspace\n",
        "\n",
        "x = np.linspace(0, 3.14, 100)\n",
        "\n",
        "m = np.logspace(-2,3,9) # special for astronomers!\n",
        "\n",
        "y = np.sin(x)\n",
        "\n",
        "\n"
      ]
    },
    {
      "cell_type": "markdown",
      "metadata": {
        "id": "kRZ_r7zmJzlj"
      },
      "source": [
        "Slicing in numpy\n",
        "==="
      ]
    },
    {
      "cell_type": "code",
      "execution_count": null,
      "metadata": {
        "colab": {
          "base_uri": "https://localhost:8080/"
        },
        "id": "2Xk-tV-LJzlj",
        "outputId": "80cf1bb4-06ff-4d99-b6ea-76a4ebf128d0"
      },
      "outputs": [
        {
          "output_type": "stream",
          "name": "stdout",
          "text": [
            "[]\n",
            "[[0. 0. 0. 0.]\n",
            " [0. 0. 0. 0.]\n",
            " [0. 0. 1. 1.]\n",
            " [0. 0. 1. 1.]]\n",
            "[[2. 2. 2. 2.]\n",
            " [0. 0. 0. 0.]\n",
            " [0. 0. 1. 1.]\n",
            " [0. 0. 1. 1.]]\n",
            "[[2. 5. 5. 2.]\n",
            " [0. 3. 3. 0.]\n",
            " [0. 3. 4. 1.]\n",
            " [0. 3. 4. 1.]]\n"
          ]
        }
      ],
      "source": [
        "a = np.zeros((4,4))\n",
        "\n",
        "print (a[2:4][2:4]) # does this work? no.\n",
        "\n",
        "a[2:4,2:4] = 1 # Works\n",
        "print (a)\n",
        "a[0] = 2\n",
        "print (a)\n",
        "a[:,1:3] += 3\n",
        "print (a)\n",
        "# the array shape is unaltered by\n",
        "# these operations\n"
      ]
    },
    {
      "cell_type": "code",
      "source": [
        "a=np.zeros((4,4))\n",
        "print(a)"
      ],
      "metadata": {
        "colab": {
          "base_uri": "https://localhost:8080/"
        },
        "id": "QyS03NGLe7Fp",
        "outputId": "74676dd6-1e9e-4165-db9f-ae57ed45c83c"
      },
      "execution_count": null,
      "outputs": [
        {
          "output_type": "stream",
          "name": "stdout",
          "text": [
            "[[0. 0. 0. 0.]\n",
            " [0. 0. 0. 0.]\n",
            " [0. 0. 0. 0.]\n",
            " [0. 0. 0. 0.]]\n"
          ]
        }
      ]
    },
    {
      "cell_type": "markdown",
      "metadata": {
        "id": "IBGF5VV2Jzlj"
      },
      "source": [
        "Rows and columns\n",
        "==="
      ]
    },
    {
      "cell_type": "code",
      "execution_count": null,
      "metadata": {
        "colab": {
          "base_uri": "https://localhost:8080/"
        },
        "id": "625zBXvvJzlj",
        "outputId": "ee2285d3-1d60-4cce-9d69-6c4cd5436070"
      },
      "outputs": [
        {
          "output_type": "stream",
          "name": "stdout",
          "text": [
            "[4. 4. 4. 4.]\n"
          ]
        }
      ],
      "source": [
        "a = np.zeros( (4,4) )\n",
        "\n",
        "# accessing rows and columns\n",
        "\n",
        "a[0,:] # the first row\n",
        "\n",
        "a[0] = 4 # the first row set to 4\n",
        "\n",
        "# read a[i,...] as\n",
        "# a[i,<as many :, as needed>]\n",
        "# this is a specific numpy notation\n",
        "\n",
        "print (a[0,...])\n",
        "\n",
        "a[:,1] = 5 # the second column\n",
        "\n",
        "a[:,-1] = 6 # the last column\n"
      ]
    },
    {
      "cell_type": "markdown",
      "metadata": {
        "id": "XLv7cgvAJzlj"
      },
      "source": [
        "numpy ASCII file reading - obsoleted by astropy.io.ascii\n",
        "==="
      ]
    },
    {
      "cell_type": "markdown",
      "metadata": {
        "id": "HqPR-NHBJzlj"
      },
      "source": [
        "fname = 'myfile.dat'\n",
        "\n",
        "data = np.loadtxt(fname)\n",
        "\n",
        "c24 = np.loadtxt(fname,usecols=(1,3)) # to select columns\n",
        "\n",
        "n,w,x,y,z = np.loadtxt(fname,unpack = True)\n",
        "\n",
        "w,y = np.loadtxt(fname,usecols=(1,3), unpack=True)\n",
        "\n",
        "fname2 = 'mydata2.dat' # a different data file\n",
        "\n",
        "data2 = np.loadtxt(fname2,delimiter='/', comments='!',skiprows=3)\n",
        "\n",
        "# default for comments is '#'\n",
        "\n",
        "np.savetxt('result.dat', res,fmt='\\%d :\\\\t \\%.6f')"
      ]
    },
    {
      "cell_type": "markdown",
      "metadata": {
        "id": "HEHjYTPlJzlk"
      },
      "source": [
        "Saving/Loading binary arrays\n",
        "==="
      ]
    },
    {
      "cell_type": "code",
      "execution_count": null,
      "metadata": {
        "colab": {
          "base_uri": "https://localhost:8080/"
        },
        "id": "xavN6boxJzlk",
        "outputId": "8cc63de4-c2b7-41a1-896e-87594045d9fe"
      },
      "outputs": [
        {
          "output_type": "stream",
          "name": "stdout",
          "text": [
            "[0 1 2 3 4 5 6 7 8 9]\n",
            "[ 0  1  2  3  4  5  6  7  8  9 10 11 12 13 14 15 16 17 18 19]\n"
          ]
        }
      ],
      "source": [
        "data=np.arange(10)\n",
        "data2 = np.arange(20)\n",
        "np.savez('/tmp/myarrays',x=data,y=data2)\n",
        "\n",
        "myarrays = np.load('/tmp/myarrays.npz')\n",
        "\n",
        "print (myarrays['x'])\n",
        "\n",
        "print (myarrays['y'])"
      ]
    },
    {
      "cell_type": "markdown",
      "metadata": {
        "id": "2HbvGBcpJzlk"
      },
      "source": [
        "more reliable than pickling files on disk."
      ]
    },
    {
      "cell_type": "markdown",
      "metadata": {
        "id": "9-9YR5C4Jzlk"
      },
      "source": [
        "Reshape and where\n",
        "==="
      ]
    },
    {
      "cell_type": "code",
      "execution_count": 13,
      "metadata": {
        "scrolled": true,
        "colab": {
          "base_uri": "https://localhost:8080/",
          "height": 625
        },
        "id": "q1LPQg6DJzlk",
        "outputId": "45bca3f9-0e29-4b6d-ac84-9bc01d4efb46"
      },
      "outputs": [
        {
          "output_type": "stream",
          "name": "stdout",
          "text": [
            "[[ 0  1  2  3  4  5  6  7  8  9]\n",
            " [10 11 12 13 14 15 16 17 18 19]\n",
            " [20 21 22 23 24 25 26 27 28 29]\n",
            " [30 31 32 33 34 35 36 37 38 39]\n",
            " [40 41 42 43 44 45 46 47 48 49]\n",
            " [50 51 52 53 54 55 56 57 58 59]\n",
            " [60 61 62 63 64 65 66 67 68 69]\n",
            " [70 71 72 73 74 75 76 77 78 79]\n",
            " [80 81 82 83 84 85 86 87 88 89]\n",
            " [90 91 92 93 94 95 96 97 98 99]]\n"
          ]
        },
        {
          "output_type": "execute_result",
          "data": {
            "text/plain": [
              "99"
            ]
          },
          "metadata": {},
          "execution_count": 13
        },
        {
          "output_type": "display_data",
          "data": {
            "text/plain": [
              "<Figure size 640x480 with 2 Axes>"
            ],
            "image/png": "[encoded data removed]"
          },
          "metadata": {}
        }
      ],
      "source": [
        "import numpy as np\n",
        "import matplotlib.pyplot as plt\n",
        "x = np.arange(100).reshape((10,10))\n",
        "print(x)\n",
        "plt.imshow(x,interpolation='none')\n",
        "plt.colorbar()\n",
        "#beAware that the X axis is coloumn and Y axis is row"
      ]
    },
    {
      "cell_type": "code",
      "execution_count": 16,
      "metadata": {
        "scrolled": true,
        "colab": {
          "base_uri": "https://localhost:8080/",
          "height": 453
        },
        "id": "ZhuMcGSjJzlk",
        "outputId": "492f1cab-4390-4e6d-ce51-9ddde5c1ef8a"
      },
      "outputs": [
        {
          "output_type": "execute_result",
          "data": {
            "text/plain": [
              "<matplotlib.colorbar.Colorbar at 0x7e0d06f977c0>"
            ]
          },
          "metadata": {},
          "execution_count": 16
        },
        {
          "output_type": "display_data",
          "data": {
            "text/plain": [
              "<Figure size 640x480 with 2 Axes>"
            ],
            "image/png": "[encoded data removed]"
          },
          "metadata": {}
        }
      ],
      "source": [
        "\n",
        "x[np.where(np.logical_and(x > 50,x <75))] = 0 # np.where(np.logical_and(x > 50,x <75))returns the indices\n",
        "plt.imshow(x,interpolation='none')\n",
        "plt.colorbar()"
      ]
    },
    {
      "cell_type": "code",
      "source": [
        "#help(np.logical_and)\n",
        "a=np.arange(10,20)\n",
        "print(np.where(a<=15))\n",
        "a[5]"
      ],
      "metadata": {
        "colab": {
          "base_uri": "https://localhost:8080/"
        },
        "id": "LCvj6RbHnfRd",
        "outputId": "bacbb728-4d3b-48fe-eb42-8595b6fe816e"
      },
      "execution_count": 12,
      "outputs": [
        {
          "output_type": "stream",
          "name": "stdout",
          "text": [
            "Help on ufunc:\n",
            "\n",
            "logical_and = <ufunc 'logical_and'>\n",
            "    logical_and(x1, x2, /, out=None, *, where=True, casting='same_kind', order='K', dtype=None, subok=True[, signature, extobj])\n",
            "    \n",
            "    Compute the truth value of x1 AND x2 element-wise.\n",
            "    \n",
            "    Parameters\n",
            "    ----------\n",
            "    x1, x2 : array_like\n",
            "        Input arrays.\n",
            "        If ``x1.shape != x2.shape``, they must be broadcastable to a common\n",
            "        shape (which becomes the shape of the output).\n",
            "    out : ndarray, None, or tuple of ndarray and None, optional\n",
            "        A location into which the result is stored. If provided, it must have\n",
            "        a shape that the inputs broadcast to. If not provided or None,\n",
            "        a freshly-allocated array is returned. A tuple (possible only as a\n",
            "        keyword argument) must have length equal to the number of outputs.\n",
            "    where : array_like, optional\n",
            "        This condition is broadcast over the input. At locations where the\n",
            "        condition is True, the `out` array will be set to the ufunc result.\n",
            "        Elsewhere, the `out` array will retain its original value.\n",
            "        Note that if an uninitialized `out` array is created via the default\n",
            "        ``out=None``, locations within it where the condition is False will\n",
            "        remain uninitialized.\n",
            "    **kwargs\n",
            "        For other keyword-only arguments, see the\n",
            "        :ref:`ufunc docs <ufuncs.kwargs>`.\n",
            "    \n",
            "    Returns\n",
            "    -------\n",
            "    y : ndarray or bool\n",
            "        Boolean result of the logical AND operation applied to the elements\n",
            "        of `x1` and `x2`; the shape is determined by broadcasting.\n",
            "        This is a scalar if both `x1` and `x2` are scalars.\n",
            "    \n",
            "    See Also\n",
            "    --------\n",
            "    logical_or, logical_not, logical_xor\n",
            "    bitwise_and\n",
            "    \n",
            "    Examples\n",
            "    --------\n",
            "    >>> np.logical_and(True, False)\n",
            "    False\n",
            "    >>> np.logical_and([True, False], [False, False])\n",
            "    array([False, False])\n",
            "    \n",
            "    >>> x = np.arange(5)\n",
            "    >>> np.logical_and(x>1, x<4)\n",
            "    array([False, False,  True,  True, False])\n",
            "    \n",
            "    \n",
            "    The ``&`` operator can be used as a shorthand for ``np.logical_and`` on\n",
            "    boolean ndarrays.\n",
            "    \n",
            "    >>> a = np.array([True, False])\n",
            "    >>> b = np.array([False, False])\n",
            "    >>> a & b\n",
            "    array([False, False])\n",
            "\n",
            "(array([0, 1, 2, 3, 4, 5]),)\n"
          ]
        },
        {
          "output_type": "execute_result",
          "data": {
            "text/plain": [
              "15"
            ]
          },
          "metadata": {},
          "execution_count": 12
        }
      ]
    },
    {
      "cell_type": "markdown",
      "metadata": {
        "id": "56r-aFUDJzlk"
      },
      "source": [
        "**np.where() may be the single most important function that you will use in numpy.**"
      ]
    },
    {
      "cell_type": "markdown",
      "metadata": {
        "id": "AX62V62BJzlk"
      },
      "source": [
        "Numpy documentation with examples\n",
        "==="
      ]
    },
    {
      "cell_type": "markdown",
      "metadata": {
        "id": "9gAh1VtuJzlk"
      },
      "source": [
        "There are over 400 functions in numpy (doing everything from rebinning to\n",
        "obtaining polynomial least squares fits) in numpy for array\n",
        "manipulation.\n",
        "\n",
        "As time permits, please read through the excellent Numpy user guide at\n",
        "\n",
        "https://numpy.org/doc/stable/user/index.html\n",
        "\n",
        "We will cover only a fraction of the capabilities on `numpy`in this course.\n",
        "\n"
      ]
    },
    {
      "cell_type": "markdown",
      "metadata": {
        "id": "Dy2nFElQJzlk"
      },
      "source": [
        "Masked arrays - np.ma\n",
        "==="
      ]
    },
    {
      "cell_type": "markdown",
      "metadata": {
        "id": "D_Ah8W2qJzlk"
      },
      "source": [
        "Masked arrays are arrays that may have missing or invalid entries. Very common in astronomy."
      ]
    },
    {
      "cell_type": "code",
      "execution_count": 17,
      "metadata": {
        "id": "KZIqcVOOJzlk",
        "outputId": "5312d3ee-2906-4523-c83e-1f314f9634cf",
        "colab": {
          "base_uri": "https://localhost:8080/"
        }
      },
      "outputs": [
        {
          "output_type": "stream",
          "name": "stdout",
          "text": [
            "[-- -- 3 -1 5]\n",
            "2.0\n",
            "2.75\n",
            "[1 2 3 -1 --]\n"
          ]
        }
      ],
      "source": [
        "import numpy.ma as ma, numpy as np\n",
        "\n",
        "x = np.array([1, 2, 3, -1, 5])\n",
        "mx = ma.masked_array(x, mask=[0, 0, 0, 1, 0])\n",
        "mx2 = ma.masked_array(x, mask=[1, 1, 0, 0, 0])\n",
        "mx2 = ma.masked_array(x, mask=[True, True, False, False, False]) # equivalent more Pythonic syntax\n",
        "print (mx2)\n",
        "print (x.mean())\n",
        "print (mx.mean())\n",
        "\n",
        "mx/mx2 # Arithmetic operations on 2 masked arrays possible.\n",
        "\n",
        "y = ma.masked_where(x>3,x)\n",
        "print (y)"
      ]
    },
    {
      "cell_type": "markdown",
      "metadata": {
        "id": "qtV0QFP0Jzlk"
      },
      "source": [
        "Numpy functions and object methods\n",
        "==="
      ]
    },
    {
      "cell_type": "code",
      "execution_count": 18,
      "metadata": {
        "id": "7MuQeiA-Jzlk",
        "outputId": "0793b1a9-cc90-46e1-89ee-8460c14e7bbd",
        "colab": {
          "base_uri": "https://localhost:8080/"
        }
      },
      "outputs": [
        {
          "output_type": "stream",
          "name": "stdout",
          "text": [
            "4950\n",
            "4950\n"
          ]
        }
      ],
      "source": [
        "a = np.arange(100)\n",
        "\n",
        "print (np.sum(a)) # Functional programming\n",
        "\n",
        "print (a.sum()) # Object oriented programming\n",
        "\n",
        "# The same underlying code provides both functional and OO calling functions."
      ]
    },
    {
      "cell_type": "markdown",
      "metadata": {
        "id": "xg6f94J2Jzlk"
      },
      "source": [
        "Histograms\n",
        "==="
      ]
    },
    {
      "cell_type": "code",
      "execution_count": null,
      "metadata": {
        "id": "JzoFIrcIJzll",
        "outputId": "39916908-66c9-48cf-8fce-d19990716c67"
      },
      "outputs": [
        {
          "data": {
            "text/plain": [
              "<matplotlib.image.AxesImage at 0x7f8c33335df0>"
            ]
          },
          "execution_count": 30,
          "metadata": {},
          "output_type": "execute_result"
        },
        {
          "data": {
            "image/png": "[encoded data removed]",
            "text/plain": [
              "<Figure size 432x288 with 1 Axes>"
            ]
          },
          "metadata": {
            "needs_background": "light"
          },
          "output_type": "display_data"
        }
      ],
      "source": [
        "\n",
        "x, y = np.random.randn(2, 100000)\n",
        "\n",
        "H, xedges, yedges = np.histogram2d(x, y, bins=50)\n",
        "\n",
        "extent = [xedges[0], xedges[-1], yedges[0], yedges[-1]]\n",
        "\n",
        "plt.imshow(H, extent=extent)\n"
      ]
    },
    {
      "cell_type": "markdown",
      "metadata": {
        "id": "koyH3snaJzll"
      },
      "source": [
        "Matrix objects\n",
        "==="
      ]
    },
    {
      "cell_type": "code",
      "execution_count": 19,
      "metadata": {
        "id": "7wMUiWQvJzll",
        "outputId": "ee617d47-5a61-4939-aae5-41f0cad6a1e2",
        "colab": {
          "base_uri": "https://localhost:8080/"
        }
      },
      "outputs": [
        {
          "output_type": "execute_result",
          "data": {
            "text/plain": [
              "matrix([[0.2, 0. , 0. ],\n",
              "        [0. , 0.2, 0. ],\n",
              "        [0. , 0. , 0.2]])"
            ]
          },
          "metadata": {},
          "execution_count": 19
        }
      ],
      "source": [
        "x1 = np.array([1, 2, 3], float)\n",
        "\n",
        "x2 = np.matrix(x1)\n",
        "\n",
        "A = np.identity(3)\n",
        "\n",
        "A = 5* np.mat(A)\n",
        "\n",
        "B = x2*A # matrix multiplication\n",
        "\n",
        "np.linalg.inv(A) #linear algebra method inside numpy"
      ]
    },
    {
      "cell_type": "markdown",
      "metadata": {
        "id": "8f1f9NSuJzll"
      },
      "source": [
        "$*$ represents matrix-matrix matrix-vector or vector-matrix multiplication."
      ]
    },
    {
      "cell_type": "markdown",
      "metadata": {
        "id": "1XD7kSyAJzll"
      },
      "source": [
        "Numpy capabilities\n",
        "==="
      ]
    },
    {
      "cell_type": "markdown",
      "metadata": {
        "id": "cDdtmZYyJzll"
      },
      "source": [
        "* Discrete Fourier Transform (np.fft)\n",
        "* Linear algebra (np.linalg): cholesky, svd, eigenvalues/vectors, matrix inversion, solving equations (LAPACK)\n",
        "* Random sampling (np.random)\n",
        "* statistics: covariance, correlation, variances, histograms\n",
        "* polynomials: root finding, fitting data\n",
        "* Matrix library (np.matlib)\n",
        "* **f2py** - a FORTRAN to Python interface generator"
      ]
    },
    {
      "cell_type": "markdown",
      "metadata": {
        "id": "9xZGpzN8Jzll"
      },
      "source": [
        "How fast is numpy?\n",
        "==="
      ]
    },
    {
      "cell_type": "markdown",
      "metadata": {
        "id": "2DHYkUcsJzll"
      },
      "source": [
        "* 100 times faster than with a for loop with native Python types\n",
        "* Somewhat slower than a modern FORTRAN/C++ compiler with  -O3 optimisations\n",
        "* comparable speed to Matlab\n",
        "\n",
        "\n",
        "But this is run speed. In development and debugging time, Python is\n",
        "far ahead ofFORTRAN/C++. But if __speed is really critical__ to your code,\n",
        "you can profile your Python code and rewrite slower parts in\n",
        "C/C++/FORTRAN."
      ]
    }
  ],
  "metadata": {
    "celltoolbar": "Slideshow",
    "kernelspec": {
      "display_name": "Python 3",
      "language": "python",
      "name": "python3"
    },
    "language_info": {
      "codemirror_mode": {
        "name": "ipython",
        "version": 3
      },
      "file_extension": ".py",
      "mimetype": "text/x-python",
      "name": "python",
      "nbconvert_exporter": "python",
      "pygments_lexer": "ipython3",
      "version": "3.6.9"
    },
    "colab": {
      "provenance": []
    }
  },
  "nbformat": 4,
  "nbformat_minor": 0
}