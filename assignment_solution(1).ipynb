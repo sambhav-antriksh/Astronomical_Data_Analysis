{
 "cells": [
  {
   "cell_type": "code",
   "execution_count": 1,
   "id": "fd1c754b-a57e-47db-9d6c-28c781fff20d",
   "metadata": {},
   "outputs": [],
   "source": [
    "import random"
   ]
  },
  {
   "cell_type": "code",
   "execution_count": null,
   "id": "3fe84fc4-79e2-44c0-b124-87bdb7e576af",
   "metadata": {},
   "outputs": [],
   "source": []
  },
  {
   "cell_type": "code",
   "execution_count": 16,
   "id": "642a6ca5-b348-4332-8806-b1e744c4671d",
   "metadata": {},
   "outputs": [
    {
     "name": "stdout",
     "output_type": "stream",
     "text": [
      "Help on method randint in module random:\n",
      "\n",
      "randint(a, b) method of random.Random instance\n",
      "    Return random integer in range [a, b], including both end points.\n",
      "\n"
     ]
    }
   ],
   "source": [
    "help(random.randint)"
   ]
  },
  {
   "cell_type": "markdown",
   "id": "8f7c7935-5646-400d-9d9d-3807a569e099",
   "metadata": {},
   "source": [
    "**<span style=\"color:red\">The code has been created by Sambhav Antriksh </span>**\n"
   ]
  },
  {
   "cell_type": "markdown",
   "id": "5ff83cc1-6e06-40b8-bcb3-9b1d2b0ed163",
   "metadata": {},
   "source": [
    "### Question 1: Write a program to generate N random integers, where the number N should be accepted from the user through the keyboard. You will need the \"random\" module for this. Can you find the suitable function inside this module that can serve your purpose?\n"
   ]
  },
  {
   "cell_type": "code",
   "execution_count": 20,
   "id": "eadec9fe-0eef-44e9-a3ed-ba7bdf7df007",
   "metadata": {
    "collapsed": true,
    "jupyter": {
     "outputs_hidden": true
    },
    "scrolled": true
   },
   "outputs": [
    {
     "name": "stdin",
     "output_type": "stream",
     "text": [
      "Enter the number of the random integers 10\n"
     ]
    },
    {
     "name": "stdout",
     "output_type": "stream",
     "text": [
      "0 random number is 9\n",
      "1 random number is 1\n",
      "2 random number is 9\n",
      "3 random number is 6\n",
      "4 random number is 7\n",
      "5 random number is 3\n",
      "6 random number is 6\n",
      "7 random number is 3\n",
      "8 random number is 2\n",
      "9 random number is 8\n",
      "10 random number is 4\n"
     ]
    }
   ],
   "source": [
    "number=int(input(\"Enter the number of the random integers\"))\n",
    "lower_bound=0\n",
    "upper_bound=number\n",
    "for i in range (lower_bound,upper_bound+1):\n",
    "    print(\"{} random number is {}\".format(i,random.randint(lower_bound,upper_bound)))"
   ]
  },
  {
   "cell_type": "markdown",
   "id": "ffb51a5b-04c8-49be-943a-35abcf4d8d12",
   "metadata": {},
   "source": [
    "### 2) Create a program which defines a list [1,2,3,4,5]. And then it should accept a number from the user and check if it inside the list. If in the list it should display \"Yes, found it!\" otherwise it should display \"Sorry, could not find that.\" You should use the \"in\" keyword for this exercise. Try typing \"a\" in \"Jack\" and see the output. This should help you understand what the \"in\" keyword does.\n",
    "\n"
   ]
  },
  {
   "cell_type": "code",
   "execution_count": 22,
   "id": "81a62520-39e9-41a9-9718-40c53ee63a31",
   "metadata": {
    "collapsed": true,
    "jupyter": {
     "outputs_hidden": true,
     "source_hidden": true
    }
   },
   "outputs": [
    {
     "name": "stdin",
     "output_type": "stream",
     "text": [
      "Enter the number 2\n"
     ]
    },
    {
     "name": "stdout",
     "output_type": "stream",
     "text": [
      "yes\n"
     ]
    }
   ],
   "source": [
    "a=[1,2,3,4,5]\n",
    "number=int(input(\"Enter the number\"))\n",
    "if number in a:\n",
    "    print(\"yes\")\n",
    "else:\n",
    "    print(\"sorry, not in the list\")"
   ]
  },
  {
   "cell_type": "code",
   "execution_count": 9,
   "id": "6bddc31a-122b-45e5-8e99-1588802900e8",
   "metadata": {
    "collapsed": true,
    "jupyter": {
     "outputs_hidden": true
    }
   },
   "outputs": [
    {
     "data": {
      "text/plain": [
       "['__class__',\n",
       " '__class_getitem__',\n",
       " '__contains__',\n",
       " '__delattr__',\n",
       " '__delitem__',\n",
       " '__dir__',\n",
       " '__doc__',\n",
       " '__eq__',\n",
       " '__format__',\n",
       " '__ge__',\n",
       " '__getattribute__',\n",
       " '__getitem__',\n",
       " '__getstate__',\n",
       " '__gt__',\n",
       " '__hash__',\n",
       " '__init__',\n",
       " '__init_subclass__',\n",
       " '__ior__',\n",
       " '__iter__',\n",
       " '__le__',\n",
       " '__len__',\n",
       " '__lt__',\n",
       " '__ne__',\n",
       " '__new__',\n",
       " '__or__',\n",
       " '__reduce__',\n",
       " '__reduce_ex__',\n",
       " '__repr__',\n",
       " '__reversed__',\n",
       " '__ror__',\n",
       " '__setattr__',\n",
       " '__setitem__',\n",
       " '__sizeof__',\n",
       " '__str__',\n",
       " '__subclasshook__',\n",
       " 'clear',\n",
       " 'copy',\n",
       " 'fromkeys',\n",
       " 'get',\n",
       " 'items',\n",
       " 'keys',\n",
       " 'pop',\n",
       " 'popitem',\n",
       " 'setdefault',\n",
       " 'update',\n",
       " 'values']"
      ]
     },
     "execution_count": 9,
     "metadata": {},
     "output_type": "execute_result"
    }
   ],
   "source": [
    "dir(dict)"
   ]
  },
  {
   "cell_type": "markdown",
   "id": "bfa4c82f-9275-403f-a3c5-cce038c4e8f5",
   "metadata": {},
   "source": [
    "## 3) Accept from the user, names of 5 students and their marks. Make a Python dictionary of the form { \"Chris\" : 55, ... } and print the dictionary ##"
   ]
  },
  {
   "cell_type": "code",
   "execution_count": 44,
   "id": "82fbb622-8c46-4088-b94c-1773dfa2da4a",
   "metadata": {
    "collapsed": true,
    "jupyter": {
     "outputs_hidden": true
    }
   },
   "outputs": [
    {
     "name": "stdout",
     "output_type": "stream",
     "text": [
      "Help on class zip in module builtins:\n",
      "\n",
      "class zip(object)\n",
      " |  zip(*iterables, strict=False) --> Yield tuples until an input is exhausted.\n",
      " |\n",
      " |     >>> list(zip('abcdefg', range(3), range(4)))\n",
      " |     [('a', 0, 0), ('b', 1, 1), ('c', 2, 2)]\n",
      " |\n",
      " |  The zip object yields n-length tuples, where n is the number of iterables\n",
      " |  passed as positional arguments to zip().  The i-th element in every tuple\n",
      " |  comes from the i-th iterable argument to zip().  This continues until the\n",
      " |  shortest argument is exhausted.\n",
      " |\n",
      " |  If strict is true and one of the arguments is exhausted before the others,\n",
      " |  raise a ValueError.\n",
      " |\n",
      " |  Methods defined here:\n",
      " |\n",
      " |  __getattribute__(self, name, /)\n",
      " |      Return getattr(self, name).\n",
      " |\n",
      " |  __iter__(self, /)\n",
      " |      Implement iter(self).\n",
      " |\n",
      " |  __next__(self, /)\n",
      " |      Implement next(self).\n",
      " |\n",
      " |  __reduce__(...)\n",
      " |      Return state information for pickling.\n",
      " |\n",
      " |  __setstate__(...)\n",
      " |      Set state information for unpickling.\n",
      " |\n",
      " |  ----------------------------------------------------------------------\n",
      " |  Static methods defined here:\n",
      " |\n",
      " |  __new__(*args, **kwargs)\n",
      " |      Create and return a new object.  See help(type) for accurate signature.\n",
      "\n",
      "Help on class dict in module builtins:\n",
      "\n",
      "class dict(object)\n",
      " |  dict() -> new empty dictionary\n",
      " |  dict(mapping) -> new dictionary initialized from a mapping object's\n",
      " |      (key, value) pairs\n",
      " |  dict(iterable) -> new dictionary initialized as if via:\n",
      " |      d = {}\n",
      " |      for k, v in iterable:\n",
      " |          d[k] = v\n",
      " |  dict(**kwargs) -> new dictionary initialized with the name=value pairs\n",
      " |      in the keyword argument list.  For example:  dict(one=1, two=2)\n",
      " |\n",
      " |  Built-in subclasses:\n",
      " |      StgDict\n",
      " |\n",
      " |  Methods defined here:\n",
      " |\n",
      " |  __contains__(self, key, /)\n",
      " |      True if the dictionary has the specified key, else False.\n",
      " |\n",
      " |  __delitem__(self, key, /)\n",
      " |      Delete self[key].\n",
      " |\n",
      " |  __eq__(self, value, /)\n",
      " |      Return self==value.\n",
      " |\n",
      " |  __ge__(self, value, /)\n",
      " |      Return self>=value.\n",
      " |\n",
      " |  __getattribute__(self, name, /)\n",
      " |      Return getattr(self, name).\n",
      " |\n",
      " |  __getitem__(self, key, /)\n",
      " |      Return self[key].\n",
      " |\n",
      " |  __gt__(self, value, /)\n",
      " |      Return self>value.\n",
      " |\n",
      " |  __init__(self, /, *args, **kwargs)\n",
      " |      Initialize self.  See help(type(self)) for accurate signature.\n",
      " |\n",
      " |  __ior__(self, value, /)\n",
      " |      Return self|=value.\n",
      " |\n",
      " |  __iter__(self, /)\n",
      " |      Implement iter(self).\n",
      " |\n",
      " |  __le__(self, value, /)\n",
      " |      Return self<=value.\n",
      " |\n",
      " |  __len__(self, /)\n",
      " |      Return len(self).\n",
      " |\n",
      " |  __lt__(self, value, /)\n",
      " |      Return self<value.\n",
      " |\n",
      " |  __ne__(self, value, /)\n",
      " |      Return self!=value.\n",
      " |\n",
      " |  __or__(self, value, /)\n",
      " |      Return self|value.\n",
      " |\n",
      " |  __repr__(self, /)\n",
      " |      Return repr(self).\n",
      " |\n",
      " |  __reversed__(self, /)\n",
      " |      Return a reverse iterator over the dict keys.\n",
      " |\n",
      " |  __ror__(self, value, /)\n",
      " |      Return value|self.\n",
      " |\n",
      " |  __setitem__(self, key, value, /)\n",
      " |      Set self[key] to value.\n",
      " |\n",
      " |  __sizeof__(...)\n",
      " |      D.__sizeof__() -> size of D in memory, in bytes\n",
      " |\n",
      " |  clear(...)\n",
      " |      D.clear() -> None.  Remove all items from D.\n",
      " |\n",
      " |  copy(...)\n",
      " |      D.copy() -> a shallow copy of D\n",
      " |\n",
      " |  get(self, key, default=None, /)\n",
      " |      Return the value for key if key is in the dictionary, else default.\n",
      " |\n",
      " |  items(...)\n",
      " |      D.items() -> a set-like object providing a view on D's items\n",
      " |\n",
      " |  keys(...)\n",
      " |      D.keys() -> a set-like object providing a view on D's keys\n",
      " |\n",
      " |  pop(...)\n",
      " |      D.pop(k[,d]) -> v, remove specified key and return the corresponding value.\n",
      " |\n",
      " |      If the key is not found, return the default if given; otherwise,\n",
      " |      raise a KeyError.\n",
      " |\n",
      " |  popitem(self, /)\n",
      " |      Remove and return a (key, value) pair as a 2-tuple.\n",
      " |\n",
      " |      Pairs are returned in LIFO (last-in, first-out) order.\n",
      " |      Raises KeyError if the dict is empty.\n",
      " |\n",
      " |  setdefault(self, key, default=None, /)\n",
      " |      Insert key with a value of default if key is not in the dictionary.\n",
      " |\n",
      " |      Return the value for key if key is in the dictionary, else default.\n",
      " |\n",
      " |  update(...)\n",
      " |      D.update([E, ]**F) -> None.  Update D from dict/iterable E and F.\n",
      " |      If E is present and has a .keys() method, then does:  for k in E: D[k] = E[k]\n",
      " |      If E is present and lacks a .keys() method, then does:  for k, v in E: D[k] = v\n",
      " |      In either case, this is followed by: for k in F:  D[k] = F[k]\n",
      " |\n",
      " |  values(...)\n",
      " |      D.values() -> an object providing a view on D's values\n",
      " |\n",
      " |  ----------------------------------------------------------------------\n",
      " |  Class methods defined here:\n",
      " |\n",
      " |  __class_getitem__(...)\n",
      " |      See PEP 585\n",
      " |\n",
      " |  fromkeys(iterable, value=None, /)\n",
      " |      Create a new dictionary with keys from iterable and values set to value.\n",
      " |\n",
      " |  ----------------------------------------------------------------------\n",
      " |  Static methods defined here:\n",
      " |\n",
      " |  __new__(*args, **kwargs)\n",
      " |      Create and return a new object.  See help(type) for accurate signature.\n",
      " |\n",
      " |  ----------------------------------------------------------------------\n",
      " |  Data and other attributes defined here:\n",
      " |\n",
      " |  __hash__ = None\n",
      "\n"
     ]
    }
   ],
   "source": [
    "help(zip)\n",
    "help(dict)"
   ]
  },
  {
   "cell_type": "code",
   "execution_count": 37,
   "id": "a4cb4817-b6c2-4876-a65f-07e2cb04c512",
   "metadata": {
    "collapsed": true,
    "jupyter": {
     "outputs_hidden": true
    }
   },
   "outputs": [
    {
     "name": "stdin",
     "output_type": "stream",
     "text": [
      "Enter the name chris\n",
      "Enter the marks  55\n",
      "Enter the name harry\n",
      "Enter the marks  65\n",
      "Enter the name diana\n",
      "Enter the marks  23\n",
      "Enter the name heena\n",
      "Enter the marks  69\n",
      "Enter the name sadhvi\n",
      "Enter the marks  99\n"
     ]
    },
    {
     "name": "stdout",
     "output_type": "stream",
     "text": [
      "dict_values([55, 65, 23, 69, 99])\n"
     ]
    }
   ],
   "source": [
    "name=[]\n",
    "marks=[]\n",
    "for i in range (1,6):\n",
    "    name.append(input(\"Enter the name\"))\n",
    "    marks.append(int(input(\"Enter the marks \")))\n",
    "p=list(zip(name,marks))\n",
    "d={}\n",
    "for k,v in p: ''' P is a tuple '''\n",
    "    d[k]=v\n",
    "print(d.values())"
   ]
  },
  {
   "cell_type": "markdown",
   "id": "12b0aa09-f3b4-4caf-8faa-c85d251d3a14",
   "metadata": {
    "jp-MarkdownHeadingCollapsed": true
   },
   "source": [
    "## 4) Define a function which accepts a number from the user and checks if the number is prime or not. It should return True if prime else return a False."
   ]
  },
  {
   "cell_type": "code",
   "execution_count": 42,
   "id": "cb5bfe66-273a-4c85-a3d9-9c0ba8522396",
   "metadata": {},
   "outputs": [
    {
     "name": "stdin",
     "output_type": "stream",
     "text": [
      "Enter the number 0\n"
     ]
    },
    {
     "name": "stdout",
     "output_type": "stream",
     "text": [
      "Number 0 is not prime\n"
     ]
    }
   ],
   "source": [
    "def prime(n):\n",
    "    flag=False\n",
    "    for j in range (2,n):     #bug not running\n",
    "        if n%j == 0:\n",
    "            flag=True\n",
    "            break\n",
    "    return flag\n",
    "\n",
    "def check(flag,n):\n",
    "    flag=prime(n)\n",
    "    if flag or n==1 or n==0:\n",
    "        print(\"Number {} is not prime\".format(n))\n",
    "    else:\n",
    "        print(\"Number {} is prime\".format(n))\n",
    "\n",
    "1\n",
    "check(False,n=int(input(\"Enter the number\")))\n",
    "\n"
   ]
  },
  {
   "cell_type": "code",
   "execution_count": 46,
   "id": "ef18c68e-a5b6-41b5-8b88-5e161446da7d",
   "metadata": {},
   "outputs": [
    {
     "name": "stdout",
     "output_type": "stream",
     "text": [
      "Number is prime \n"
     ]
    }
   ],
   "source": [
    "prime(n)"
   ]
  },
  {
   "cell_type": "markdown",
   "id": "a06c8986-0d98-4c6c-903a-cc6b35ba6639",
   "metadata": {
    "jp-MarkdownHeadingCollapsed": true
   },
   "source": [
    "##  5) Write a program which accepts a name from a user and prints the same name with all letters capitalized. Find the correct string method\n",
    "for the same."
   ]
  },
  {
   "cell_type": "code",
   "execution_count": 20,
   "id": "d9c5e04b-7c37-4284-8e33-5dbba9d3ead7",
   "metadata": {},
   "outputs": [
    {
     "name": "stdin",
     "output_type": "stream",
     "text": [
      "Enter the name  manoj kumar\n"
     ]
    },
    {
     "data": {
      "text/plain": [
       "'MANOJ KUMAR'"
      ]
     },
     "execution_count": 20,
     "metadata": {},
     "output_type": "execute_result"
    }
   ],
   "source": [
    "dir(str)\n",
    "name=input(\"Enter the name \")\n",
    "name.upper()"
   ]
  },
  {
   "cell_type": "markdown",
   "id": "7fedbe78-0466-4e1f-91fc-c6571dacd2d3",
   "metadata": {},
   "source": [
    "## 6) Define a function is_palindrome() that recognizes palindromes (i.e. words that look the same written backwards). For example, is_palindrome(\"radar\") should return True.\n"
   ]
  },
  {
   "cell_type": "code",
   "execution_count": 28,
   "id": "6c9a9e62-5186-4b02-83e9-07464c9c046a",
   "metadata": {
    "jupyter": {
     "source_hidden": true
    }
   },
   "outputs": [
    {
     "name": "stdin",
     "output_type": "stream",
     "text": [
      "Enter the word detartrated\n"
     ]
    },
    {
     "name": "stdout",
     "output_type": "stream",
     "text": [
      "It is a palindrome \n"
     ]
    }
   ],
   "source": [
    "def is_palindrome(word):\n",
    "    flag=True\n",
    "    for k in range(0,len(word)):\n",
    "        if word[k]==word[len(word)-k-1]:\n",
    "            continue\n",
    "        else:\n",
    "            flag=False\n",
    "            break\n",
    "    return flag\n",
    "    \n",
    "word=input(\"Enter the word\")\n",
    "if is_palindrome(word):\n",
    "    print(\"It is a palindrome \")\n",
    "else:\n",
    "    print(\"Not a palindrome\")\n"
   ]
  },
  {
   "cell_type": "markdown",
   "id": "d426310d-d548-4931-8451-49c7a775ca8e",
   "metadata": {
    "jupyter": {
     "source_hidden": true
    }
   },
   "source": [
    "## 7) Write a program to print the following:\n",
    "\n",
    "1\n",
    "22\n",
    "333\n",
    "4444\n",
    "55555 \n",
    "\n"
   ]
  },
  {
   "cell_type": "code",
   "execution_count": 37,
   "id": "828c0f72-a154-43dd-a3bf-722e3b501503",
   "metadata": {
    "collapsed": true,
    "jupyter": {
     "outputs_hidden": true,
     "source_hidden": true
    },
    "scrolled": true
   },
   "outputs": [
    {
     "name": "stdout",
     "output_type": "stream",
     "text": [
      "1\n",
      "22\n",
      "333\n",
      "4444\n",
      "55555\n",
      "Help on built-in function print in module builtins:\n",
      "\n",
      "print(*args, sep=' ', end='\\n', file=None, flush=False)\n",
      "    Prints the values to a stream, or to sys.stdout by default.\n",
      "\n",
      "    sep\n",
      "      string inserted between values, default a space.\n",
      "    end\n",
      "      string appended after the last value, default a newline.\n",
      "    file\n",
      "      a file-like object (stream); defaults to the current sys.stdout.\n",
      "    flush\n",
      "      whether to forcibly flush the stream.\n",
      "\n"
     ]
    }
   ],
   "source": [
    "for j in range(1,6):\n",
    "    for k in range(1,j+1):\n",
    "        print(j,end=\"\")\n",
    "    print(\"\")\n",
    "help(print)"
   ]
  },
  {
   "cell_type": "markdown",
   "id": "661a0223-e147-4b4c-9320-ee8ac0f2aac9",
   "metadata": {},
   "source": [
    "### 8) Write a program to print all even numbers from 0 to 100. Write a version to print odd. Use your previously defined function to find prime numbers and print them."
   ]
  },
  {
   "cell_type": "code",
   "execution_count": 43,
   "id": "b09147df-bd3d-4a6d-9b7b-9f0676bbd0c3",
   "metadata": {
    "collapsed": true,
    "jupyter": {
     "outputs_hidden": true
    }
   },
   "outputs": [
    {
     "name": "stdout",
     "output_type": "stream",
     "text": [
      "0 is even\n",
      "Number 0 is not prime\n",
      "1 is odd\n",
      "Number 1 is not prime\n",
      "2 is even\n",
      "Number 2 is prime\n",
      "3 is odd\n",
      "Number 3 is prime\n",
      "4 is even\n",
      "Number 4 is not prime\n",
      "5 is odd\n",
      "Number 5 is prime\n",
      "6 is even\n",
      "Number 6 is not prime\n",
      "7 is odd\n",
      "Number 7 is prime\n",
      "8 is even\n",
      "Number 8 is not prime\n",
      "9 is odd\n",
      "Number 9 is not prime\n",
      "10 is even\n",
      "Number 10 is not prime\n",
      "11 is odd\n",
      "Number 11 is prime\n",
      "12 is even\n",
      "Number 12 is not prime\n",
      "13 is odd\n",
      "Number 13 is prime\n",
      "14 is even\n",
      "Number 14 is not prime\n",
      "15 is odd\n",
      "Number 15 is not prime\n",
      "16 is even\n",
      "Number 16 is not prime\n",
      "17 is odd\n",
      "Number 17 is prime\n",
      "18 is even\n",
      "Number 18 is not prime\n",
      "19 is odd\n",
      "Number 19 is prime\n",
      "20 is even\n",
      "Number 20 is not prime\n",
      "21 is odd\n",
      "Number 21 is not prime\n",
      "22 is even\n",
      "Number 22 is not prime\n",
      "23 is odd\n",
      "Number 23 is prime\n",
      "24 is even\n",
      "Number 24 is not prime\n",
      "25 is odd\n",
      "Number 25 is not prime\n",
      "26 is even\n",
      "Number 26 is not prime\n",
      "27 is odd\n",
      "Number 27 is not prime\n",
      "28 is even\n",
      "Number 28 is not prime\n",
      "29 is odd\n",
      "Number 29 is prime\n",
      "30 is even\n",
      "Number 30 is not prime\n",
      "31 is odd\n",
      "Number 31 is prime\n",
      "32 is even\n",
      "Number 32 is not prime\n",
      "33 is odd\n",
      "Number 33 is not prime\n",
      "34 is even\n",
      "Number 34 is not prime\n",
      "35 is odd\n",
      "Number 35 is not prime\n",
      "36 is even\n",
      "Number 36 is not prime\n",
      "37 is odd\n",
      "Number 37 is prime\n",
      "38 is even\n",
      "Number 38 is not prime\n",
      "39 is odd\n",
      "Number 39 is not prime\n",
      "40 is even\n",
      "Number 40 is not prime\n",
      "41 is odd\n",
      "Number 41 is prime\n",
      "42 is even\n",
      "Number 42 is not prime\n",
      "43 is odd\n",
      "Number 43 is prime\n",
      "44 is even\n",
      "Number 44 is not prime\n",
      "45 is odd\n",
      "Number 45 is not prime\n",
      "46 is even\n",
      "Number 46 is not prime\n",
      "47 is odd\n",
      "Number 47 is prime\n",
      "48 is even\n",
      "Number 48 is not prime\n",
      "49 is odd\n",
      "Number 49 is not prime\n",
      "50 is even\n",
      "Number 50 is not prime\n",
      "51 is odd\n",
      "Number 51 is not prime\n",
      "52 is even\n",
      "Number 52 is not prime\n",
      "53 is odd\n",
      "Number 53 is prime\n",
      "54 is even\n",
      "Number 54 is not prime\n",
      "55 is odd\n",
      "Number 55 is not prime\n",
      "56 is even\n",
      "Number 56 is not prime\n",
      "57 is odd\n",
      "Number 57 is not prime\n",
      "58 is even\n",
      "Number 58 is not prime\n",
      "59 is odd\n",
      "Number 59 is prime\n",
      "60 is even\n",
      "Number 60 is not prime\n",
      "61 is odd\n",
      "Number 61 is prime\n",
      "62 is even\n",
      "Number 62 is not prime\n",
      "63 is odd\n",
      "Number 63 is not prime\n",
      "64 is even\n",
      "Number 64 is not prime\n",
      "65 is odd\n",
      "Number 65 is not prime\n",
      "66 is even\n",
      "Number 66 is not prime\n",
      "67 is odd\n",
      "Number 67 is prime\n",
      "68 is even\n",
      "Number 68 is not prime\n",
      "69 is odd\n",
      "Number 69 is not prime\n",
      "70 is even\n",
      "Number 70 is not prime\n",
      "71 is odd\n",
      "Number 71 is prime\n",
      "72 is even\n",
      "Number 72 is not prime\n",
      "73 is odd\n",
      "Number 73 is prime\n",
      "74 is even\n",
      "Number 74 is not prime\n",
      "75 is odd\n",
      "Number 75 is not prime\n",
      "76 is even\n",
      "Number 76 is not prime\n",
      "77 is odd\n",
      "Number 77 is not prime\n",
      "78 is even\n",
      "Number 78 is not prime\n",
      "79 is odd\n",
      "Number 79 is prime\n",
      "80 is even\n",
      "Number 80 is not prime\n",
      "81 is odd\n",
      "Number 81 is not prime\n",
      "82 is even\n",
      "Number 82 is not prime\n",
      "83 is odd\n",
      "Number 83 is prime\n",
      "84 is even\n",
      "Number 84 is not prime\n",
      "85 is odd\n",
      "Number 85 is not prime\n",
      "86 is even\n",
      "Number 86 is not prime\n",
      "87 is odd\n",
      "Number 87 is not prime\n",
      "88 is even\n",
      "Number 88 is not prime\n",
      "89 is odd\n",
      "Number 89 is prime\n",
      "90 is even\n",
      "Number 90 is not prime\n",
      "91 is odd\n",
      "Number 91 is not prime\n",
      "92 is even\n",
      "Number 92 is not prime\n",
      "93 is odd\n",
      "Number 93 is not prime\n",
      "94 is even\n",
      "Number 94 is not prime\n",
      "95 is odd\n",
      "Number 95 is not prime\n",
      "96 is even\n",
      "Number 96 is not prime\n",
      "97 is odd\n",
      "Number 97 is prime\n",
      "98 is even\n",
      "Number 98 is not prime\n",
      "99 is odd\n",
      "Number 99 is not prime\n",
      "100 is even\n",
      "Number 100 is not prime\n"
     ]
    }
   ],
   "source": [
    "for i in range (0,101):\n",
    "    if i%2==0 and i!=1:\n",
    "        print(\"{} is even\".format(i))\n",
    "    else:\n",
    "        print(\"{} is odd\".format(i))\n",
    "    check(False,i)"
   ]
  },
  {
   "cell_type": "markdown",
   "id": "0f74daa7-97ca-46fa-ba7a-8fe7f7c9989e",
   "metadata": {},
   "source": [
    "### 9) Write a program to accept numbers through the keyboard and return the mean, median and standard deviation of those numbers. These can be computed using \"statistics\" module in the Python Standard Library. There should be no limit on how many numbers the user can provide. Users should be able to quit whenever they want."
   ]
  },
  {
   "cell_type": "code",
   "execution_count": 6,
   "id": "a6078e7f-13aa-4121-a9de-f963d884721e",
   "metadata": {
    "collapsed": true,
    "jupyter": {
     "outputs_hidden": true,
     "source_hidden": true
    }
   },
   "outputs": [
    {
     "name": "stdout",
     "output_type": "stream",
     "text": [
      "Help on function median in module statistics:\n",
      "\n",
      "median(data)\n",
      "    Return the median (middle value) of numeric data.\n",
      "\n",
      "    When the number of data points is odd, return the middle data point.\n",
      "    When the number of data points is even, the median is interpolated by\n",
      "    taking the average of the two middle values:\n",
      "\n",
      "    >>> median([1, 3, 5])\n",
      "    3\n",
      "    >>> median([1, 3, 5, 7])\n",
      "    4.0\n",
      "\n"
     ]
    }
   ],
   "source": [
    "import statistics\n",
    "help(statistics.median)"
   ]
  },
  {
   "cell_type": "code",
   "execution_count": 9,
   "id": "e9964bbe-31a9-4902-ad04-6a7b336557ad",
   "metadata": {
    "collapsed": true,
    "jupyter": {
     "outputs_hidden": true,
     "source_hidden": true
    },
    "scrolled": true
   },
   "outputs": [
    {
     "name": "stdin",
     "output_type": "stream",
     "text": [
      "Do you want to enter the number press y y\n",
      "Enter the number 1\n",
      "Do you want to enter the number press y y\n",
      "Enter the number 4\n",
      "Do you want to enter the number press y y\n",
      "Enter the number 2\n",
      "Do you want to enter the number press y y\n",
      "Enter the number 9\n",
      "Do you want to enter the number press y y\n",
      "Enter the number 5\n",
      "Do you want to enter the number press y n\n"
     ]
    },
    {
     "name": "stdout",
     "output_type": "stream",
     "text": [
      "The mean,median,mode of [1, 4, 2, 9, 5] is 4.2,4,1\n"
     ]
    }
   ],
   "source": [
    "no=[]\n",
    "while 'y'==input(\"Do you want to enter the number press y\"):\n",
    "    no.append(int(input(\"Enter the number\")))\n",
    "print(\"The mean,median,mode of {} is {},{},{}\".format(no,statistics.mean(no),statistics.median(no),statistics.mode(no)))\n",
    "    "
   ]
  },
  {
   "cell_type": "markdown",
   "id": "638ae7a6-8d45-40fc-b2e7-0d2a2906f5e6",
   "metadata": {},
   "source": [
    "### 10) Write a program which takes an arbitraily long list containing numbers and returns mean, median and standard deviation. You are not allowed to use existing Python modules this time, define your own functions to do the job. Save this program as \"my_module.py\". Now redo the previous problem by importing \"my_module\"."
   ]
  },
  {
   "cell_type": "code",
   "execution_count": 69,
   "id": "f356992b-8693-4568-963e-ccbede5ca111",
   "metadata": {},
   "outputs": [
    {
     "name": "stdout",
     "output_type": "stream",
     "text": [
      "Help on function stdev in module statistics:\n",
      "\n",
      "stdev(data, xbar=None)\n",
      "    Return the square root of the sample variance.\n",
      "\n",
      "    See ``variance`` for arguments and other details.\n",
      "\n",
      "    >>> stdev([1.5, 2.5, 2.5, 2.75, 3.25, 4.75])\n",
      "    1.0810874155219827\n",
      "\n"
     ]
    }
   ],
   "source": [
    "import my_module\n",
    "import statistics\n",
    "dir(statistics)\n",
    "help(statistics.stdev)"
   ]
  },
  {
   "cell_type": "code",
   "execution_count": 72,
   "id": "43307b00-283c-4761-85e2-ee6aec170bc0",
   "metadata": {},
   "outputs": [
    {
     "name": "stdin",
     "output_type": "stream",
     "text": [
      "Give the total number of values  4\n",
      "Enter the 1 values 1\n",
      "Enter the 2 values 13\n",
      "Enter the 3 values 12\n",
      "Enter the 4 values 11\n"
     ]
    },
    {
     "name": "stdout",
     "output_type": "stream",
     "text": [
      "The mean,median and standard deviation are 9.25,11.5,4.968651728587948\n",
      "The mean,median and standard deviation are 9.25,11.5,5.560275772537426\n"
     ]
    }
   ],
   "source": [
    "n=int(input(\"Give the total number of values \"))\n",
    "values=[]\n",
    "for i in range(1,n+1):\n",
    "    values.append(int(input(\"Enter the {} values\".format(i))))\n",
    "\n",
    "print(\"The mean,median and standard deviation are {},{},{}\".format(my_module.my_mean(values),my_module.my_median(values),my_module.my_standard_deviation(values)))\n",
    "print(\"The mean,median and standard deviation are {},{},{}\".format(statistics.mean(values),statistics.median(values),statistics.stdev(values)))"
   ]
  },
  {
   "cell_type": "code",
   "execution_count": 18,
   "id": "9de1b346-8fed-4cc0-a931-1a3610abc292",
   "metadata": {},
   "outputs": [],
   "source": [
    "a=[1,2]\n",
    "a[0],a[1]=a[1],a[0]"
   ]
  },
  {
   "cell_type": "markdown",
   "id": "6e156034-c9df-4cae-99bf-162e8f9cbf0d",
   "metadata": {},
   "source": [
    "\n",
    "### 11) Write a program that accepts a string from the user and checks if it contains a space or special symbols such as such as $,%,^,&,*,(,)."
   ]
  },
  {
   "cell_type": "code",
   "execution_count": 76,
   "id": "dd185ecc-42dc-451e-b3ca-76150c413336",
   "metadata": {},
   "outputs": [
    {
     "name": "stdin",
     "output_type": "stream",
     "text": [
      "Enter the string ghz,\n"
     ]
    },
    {
     "name": "stdout",
     "output_type": "stream",
     "text": [
      "Special character\n"
     ]
    }
   ],
   "source": [
    "words=input(\"Enter the string\")\n",
    "special=[\"$\",\"%\",\"^\",\"&\",\",\"]\n",
    "for i in range(0,5):\n",
    "    for j in range(0,len(words)):\n",
    "        if words[j]==special[i]:\n",
    "            print(\"Special character\")\n",
    "            break\n",
    "        else:\n",
    "            continue\n",
    "    "
   ]
  },
  {
   "cell_type": "markdown",
   "id": "0f414f8d-54c5-4a1c-b806-73651a96a24e",
   "metadata": {},
   "source": [
    "### 12) Read a sentence from the user and split it into words and print one word on a line."
   ]
  },
  {
   "cell_type": "code",
   "execution_count": 9,
   "id": "6909d102-cb2c-46ed-a1aa-f0654b86af34",
   "metadata": {},
   "outputs": [
    {
     "name": "stdin",
     "output_type": "stream",
     "text": [
      "Enter the sentence sambhav is a good boy.\n"
     ]
    },
    {
     "name": "stdout",
     "output_type": "stream",
     "text": [
      "sambhav\n",
      "is\n",
      "a\n",
      "good\n",
      "boy.\n"
     ]
    }
   ],
   "source": [
    "#dir(str)\n",
    "#help(str.split)\n",
    "line=input(\"Enter the sentence\")\n",
    "type(line.split(\" \"))\n",
    "for i in line.split(\" \"):\n",
    "    print(i)\n"
   ]
  },
  {
   "cell_type": "markdown",
   "id": "900d9d43-0ba0-450c-96c7-9fe1336bffa2",
   "metadata": {},
   "source": [
    "### 13) You are given an example text file \"simple.txt\". Read lines from the given text file line by line in a loop and print it. Find out which lines contain numbers."
   ]
  },
  {
   "cell_type": "code",
   "execution_count": 78,
   "id": "6d3218ae-eb1a-47bf-bcaf-e0b3fdbf1d4f",
   "metadata": {},
   "outputs": [
    {
     "name": "stdout",
     "output_type": "stream",
     "text": [
      "1\n",
      "\n",
      "two\n",
      "\n",
      "5\n",
      "\n",
      "seven\n",
      "\n",
      "9\n",
      "\n",
      "eleven\n",
      "\n",
      "13.7\n",
      "\n",
      "15\n",
      "\n",
      "seventeen\n",
      "\n",
      "19\n",
      "\n",
      "20.5\n",
      "\n",
      "23\n",
      "\n",
      "25\n",
      "\n",
      "The lines which contained the numbers are [1, 3, 5, 7, 8, 10, 11, 12, 13]\n"
     ]
    }
   ],
   "source": [
    "with open('simple.txt') as f:\n",
    "    read_data=f.readlines()\n",
    "\n",
    "counter=0\n",
    "line_number=[]\n",
    "for k in read_data:\n",
    "    print(k)\n",
    "    counter=counter+1\n",
    "    try:\n",
    "        if type(float(k.strip()))==float:\n",
    "            line_number.append(counter)\n",
    "        else:\n",
    "            continue\n",
    "    except:\n",
    "        continue\n",
    "      \n",
    "print(\"The lines which contained the numbers are {}\".format(line_number))\n"
   ]
  },
  {
   "cell_type": "markdown",
   "id": "18116722-c613-4573-8921-97d8525e0c68",
   "metadata": {},
   "source": [
    "### 14) Read line by line from given \"multicolumn.txt\" file, and then split them into a list and print the first word and total number of words of each line. Write this output into another text file.\n",
    "\n"
   ]
  },
  {
   "cell_type": "code",
   "execution_count": 52,
   "id": "4b5610ec-d10e-43da-925f-47801afb2bf5",
   "metadata": {},
   "outputs": [
    {
     "name": "stdout",
     "output_type": "stream",
     "text": [
      "Beautiful is better than ugly. Explicit is better than implicit. Simple is better than complex. Complex is better than complicated. Flat is better than nested. Sparse is better than dense. Readability counts. Special cases aren't special enough to break the rules. Although practicality beats purity. Errors should never pass silently. Unless explicitly silenced. In the face of ambiguity, refuse the temptation to guess. There should be one-- and preferably only one --obvious way to do it. Although that way may not be obvious at first unless you're Dutch. Now is better than never. Although never is often better than *right* now. If the implementation is hard to explain, it's a bad idea. If the implementation is easy to explain, it may be a good idea. Namespaces are one honking great idea -- let's do more of those.\n",
      "\n"
     ]
    }
   ],
   "source": [
    "with open('multicolumn.txt','r') as f:\n",
    "    read_data=f.readline()\n",
    "read_data.strip(\" \")\n",
    "print(read_data.strip(\" \"))\n",
    "modified_data=read_data.split(\".\")\n",
    "with open('store.txt','w') as f:\n",
    "    for i in range(0,len(modified_data)):\n",
    "        f.write((((modified_data[i]).strip(\" \")).split(\" \"))[0])\n",
    "        f.write(\"\\n\")\n",
    "        "
   ]
  },
  {
   "cell_type": "markdown",
   "id": "744b9dac-d257-4714-9b85-e0c30ecafd00",
   "metadata": {},
   "source": [
    "### 15) You are given a \"table.txt\" file which contains a table of the form:\n",
    "\n",
    "a,b\n",
    "1,2\n",
    "3,4\n",
    "5,5\n",
    "4,3\n",
    "\n",
    "Find the sum and product of row elements in a and b and create a text file contaning following output table:\n",
    "\n",
    "a,b,a+b,ab\n",
    "1,2,3,2\n",
    "3,4,7,12\n",
    "5,5,10,25\n",
    "4,3,7,12\t\n",
    "\n",
    "Save this file as \"output_table.txt\". Now print only the diagonal numbers (ie. 1,4,10, 12) elements and their sum from this file. Create a new text file in the same format which contains all rows of this\n",
    "\"table\" where ab is less than 25."
   ]
  },
  {
   "cell_type": "code",
   "execution_count": 29,
   "id": "9e5c9c16-f116-4c1b-9683-f898d1b4e324",
   "metadata": {},
   "outputs": [
    {
     "name": "stdout",
     "output_type": "stream",
     "text": [
      "['a,b,a+b,ab \\n', '1,2,3,2\\n', '3,4,7,12\\n', '5,5,10,25\\n', '4,3,7,12\\n']\n",
      "1\n",
      "4\n",
      "10\n",
      "12\n",
      "\n",
      "27\n"
     ]
    }
   ],
   "source": [
    "with open('table.txt','r') as f:\n",
    "    read_data=(f.readlines())\n",
    "\n",
    "with open('output_table.txt','w') as f:\n",
    "    f.write(\"a,b,a+b,ab \\n\")\n",
    "    for i in range(1,len(read_data)):\n",
    "        tempA,tempB=(read_data[i].strip(\" \")).split(\",\")\n",
    "        f.writelines(\"{},{},{},{}\\n\".format(int(tempA),int(tempB),int(tempA)+int(tempB),int(tempA)*int(tempB)))\n",
    "\n",
    "with open('output_table.txt','r') as f:\n",
    "    read_data=f.readlines()\n",
    "    print(read_data)\n",
    "    sum=0\n",
    "    for j in range(1,len(read_data)):\n",
    "        print((read_data[j].split(\",\"))[j-1])\n",
    "        sum=sum+int((read_data[j].split(\",\"))[j-1])\n",
    "    print(sum)\n",
    "\n",
    "with open('table_new.txt','w') as f:\n",
    "    f.write(\"a,b,a+b,ab \\n\")\n",
    "    for i in range(1,len(read_data)):\n",
    "        if (int((read_data[i].strip(\" \")).split(\",\")[3])) < 25 :\n",
    "            tempa,tempb,tempc,tempd=((read_data[i].strip(\" \")).split(\",\"))\n",
    "            f.write(\"{},{},{},{}\\n\".format(int(tempa),int(tempb),int(tempc),int(tempd)))\n",
    "        else:\n",
    "            continue\n",
    "   "
   ]
  },
  {
   "cell_type": "code",
   "execution_count": 30,
   "id": "4ffe7315-b5cd-424f-9a46-fe00cfe258f6",
   "metadata": {},
   "outputs": [
    {
     "data": {
      "text/plain": [
       "['_CHUNK_SIZE',\n",
       " '__class__',\n",
       " '__del__',\n",
       " '__delattr__',\n",
       " '__dict__',\n",
       " '__dir__',\n",
       " '__doc__',\n",
       " '__enter__',\n",
       " '__eq__',\n",
       " '__exit__',\n",
       " '__format__',\n",
       " '__ge__',\n",
       " '__getattribute__',\n",
       " '__getstate__',\n",
       " '__gt__',\n",
       " '__hash__',\n",
       " '__init__',\n",
       " '__init_subclass__',\n",
       " '__iter__',\n",
       " '__le__',\n",
       " '__lt__',\n",
       " '__module__',\n",
       " '__ne__',\n",
       " '__new__',\n",
       " '__next__',\n",
       " '__reduce__',\n",
       " '__reduce_ex__',\n",
       " '__repr__',\n",
       " '__setattr__',\n",
       " '__sizeof__',\n",
       " '__str__',\n",
       " '__subclasshook__',\n",
       " '_checkClosed',\n",
       " '_checkReadable',\n",
       " '_checkSeekable',\n",
       " '_checkWritable',\n",
       " '_finalizing',\n",
       " 'buffer',\n",
       " 'close',\n",
       " 'closed',\n",
       " 'detach',\n",
       " 'encoding',\n",
       " 'errors',\n",
       " 'fileno',\n",
       " 'flush',\n",
       " 'isatty',\n",
       " 'line_buffering',\n",
       " 'mode',\n",
       " 'name',\n",
       " 'newlines',\n",
       " 'read',\n",
       " 'readable',\n",
       " 'readline',\n",
       " 'readlines',\n",
       " 'reconfigure',\n",
       " 'seek',\n",
       " 'seekable',\n",
       " 'tell',\n",
       " 'truncate',\n",
       " 'writable',\n",
       " 'write',\n",
       " 'write_through',\n",
       " 'writelines']"
      ]
     },
     "execution_count": 30,
     "metadata": {},
     "output_type": "execute_result"
    }
   ],
   "source": [
    "dir(f)"
   ]
  },
  {
   "cell_type": "markdown",
   "id": "90c9d603-806e-4a3f-aa10-3fb2a694dbe5",
   "metadata": {},
   "source": [
    "###  16. Write a program which accepts two command line arguments and returns their sum."
   ]
  },
  {
   "cell_type": "code",
   "execution_count": 28,
   "id": "6d73d4ae-3f6e-4293-bc0c-dbf848ada3bf",
   "metadata": {},
   "outputs": [
    {
     "name": "stdout",
     "output_type": "stream",
     "text": [
      "This runs fine in terminal\n"
     ]
    }
   ],
   "source": [
    "import os\n",
    "import sys\n",
    "try:\n",
    "    if len(sys.argv)==3:\n",
    "        print(\"The sum is {} \".format(int(sys.argv[1])+int(sys.argv[2])))\n",
    "    else:\n",
    "        print(\"Enter two numbers\")\n",
    "\n",
    "except ValueError:\n",
    "    print(\"This runs fine in terminal\")"
   ]
  },
  {
   "cell_type": "markdown",
   "id": "e1681661-4a36-434f-a80f-49bb6426b88b",
   "metadata": {},
   "source": [
    "### Write a program to accept as a command line argument the temperature in Celsius and print the Fahrenheit equivalent of the same."
   ]
  },
  {
   "cell_type": "code",
   "execution_count": 20,
   "id": "4532e428-9797-4273-8715-e4e255aff070",
   "metadata": {},
   "outputs": [
    {
     "name": "stdout",
     "output_type": "stream",
     "text": [
      "3\n",
      "Enter valid temperature\n"
     ]
    }
   ],
   "source": [
    "import sys\n",
    "\n",
    "try:\n",
    "    print(len(sys.argv))\n",
    "    if len(sys.argv)==2:\n",
    "        print(\"The temperature is {} F\".format((9/5)*int(sys.argv[1])+32))\n",
    "    else:\n",
    "        print(\"Enter valid temperature\")\n",
    "        \n",
    "except ValueError: \n",
    "    print(\"This program runs fine in terminal --> python3 celfah value \")"
   ]
  },
  {
   "cell_type": "markdown",
   "id": "24a5f4d0-39d8-4b1b-b271-53735ade6c9b",
   "metadata": {},
   "source": [
    "### 18) Write a program which accepts \"output_table.txt\" from the command line and finds average of all numbers in that table."
   ]
  },
  {
   "cell_type": "code",
   "execution_count": 35,
   "id": "e9f9c46c-35de-4fb7-af92-96c3948f18c5",
   "metadata": {},
   "outputs": [
    {
     "name": "stdout",
     "output_type": "stream",
     "text": [
      "Enter in the correct format \n"
     ]
    }
   ],
   "source": [
    "import sys\n",
    "import os\n",
    "try:\n",
    "    if len(sys.argv)==2:\n",
    "        with open(sys.argv[1],'r') as f:\n",
    "            read_data=(f.readlines()).strip()\n",
    "    else:\n",
    "        print(\"Enter in the correct format \")\n",
    "except ValueError:\n",
    "    print(\"Run from the command line prompt\")\n",
    "\n",
    "    "
   ]
  },
  {
   "cell_type": "code",
   "execution_count": 34,
   "id": "60d0cebd-8af0-44d3-9c31-560ec0e88c27",
   "metadata": {},
   "outputs": [
    {
     "data": {
      "text/plain": [
       "['_CHUNK_SIZE',\n",
       " '__class__',\n",
       " '__del__',\n",
       " '__delattr__',\n",
       " '__dict__',\n",
       " '__dir__',\n",
       " '__doc__',\n",
       " '__enter__',\n",
       " '__eq__',\n",
       " '__exit__',\n",
       " '__format__',\n",
       " '__ge__',\n",
       " '__getattribute__',\n",
       " '__getstate__',\n",
       " '__gt__',\n",
       " '__hash__',\n",
       " '__init__',\n",
       " '__init_subclass__',\n",
       " '__iter__',\n",
       " '__le__',\n",
       " '__lt__',\n",
       " '__module__',\n",
       " '__ne__',\n",
       " '__new__',\n",
       " '__next__',\n",
       " '__reduce__',\n",
       " '__reduce_ex__',\n",
       " '__repr__',\n",
       " '__setattr__',\n",
       " '__sizeof__',\n",
       " '__str__',\n",
       " '__subclasshook__',\n",
       " '_checkClosed',\n",
       " '_checkReadable',\n",
       " '_checkSeekable',\n",
       " '_checkWritable',\n",
       " '_finalizing',\n",
       " 'buffer',\n",
       " 'close',\n",
       " 'closed',\n",
       " 'detach',\n",
       " 'encoding',\n",
       " 'errors',\n",
       " 'fileno',\n",
       " 'flush',\n",
       " 'isatty',\n",
       " 'line_buffering',\n",
       " 'mode',\n",
       " 'name',\n",
       " 'newlines',\n",
       " 'read',\n",
       " 'readable',\n",
       " 'readline',\n",
       " 'readlines',\n",
       " 'reconfigure',\n",
       " 'seek',\n",
       " 'seekable',\n",
       " 'tell',\n",
       " 'truncate',\n",
       " 'writable',\n",
       " 'write',\n",
       " 'write_through',\n",
       " 'writelines']"
      ]
     },
     "execution_count": 34,
     "metadata": {},
     "output_type": "execute_result"
    }
   ],
   "source": [
    "import os\n",
    "import sys\n",
    "dir(f)"
   ]
  },
  {
   "cell_type": "code",
   "execution_count": 68,
   "id": "096eaba1-166a-491e-8284-c3406fb1bc4c",
   "metadata": {},
   "outputs": [
    {
     "name": "stdout",
     "output_type": "stream",
     "text": [
      "Enter in the correct format \n"
     ]
    }
   ],
   "source": [
    "import sys\n",
    "import os\n",
    "try:\n",
    "    if len(sys.argv)==2:\n",
    "        with open(sys.argv[1],'r') as f:\n",
    "            read_data=(f.readlines())\n",
    "            sum=0\n",
    "            for j in range (1,len(read_data)):\n",
    "                for k in range(0,len((read_data[j].strip()).split(\",\"))):\n",
    "                    sum=sum+float(((read_data[j].strip()).split(\",\"))[k])\n",
    "        print(\"The sum is {}\".format(sum))\n",
    "                \n",
    "    else:\n",
    "        print(\"Enter in the correct format \")\n",
    "except ValueError:\n",
    "    print(\"Run from the command line prompt\")\n",
    "\n",
    "    "
   ]
  },
  {
   "cell_type": "code",
   "execution_count": 67,
   "id": "493a9d42-7c57-47c0-bd5c-30f439ff2364",
   "metadata": {},
   "outputs": [
    {
     "name": "stdout",
     "output_type": "stream",
     "text": [
      "4\n"
     ]
    }
   ],
   "source": [
    "print(len((read_data[j].strip()).split(\",\")))"
   ]
  },
  {
   "cell_type": "code",
   "execution_count": null,
   "id": "80f47cb3-ec2c-47be-878c-e0474100ab2a",
   "metadata": {},
   "outputs": [],
   "source": []
  }
 ],
 "metadata": {
  "kernelspec": {
   "display_name": "Python 3 (ipykernel)",
   "language": "python",
   "name": "python3"
  },
  "language_info": {
   "codemirror_mode": {
    "name": "ipython",
    "version": 3
   },
   "file_extension": ".py",
   "mimetype": "text/x-python",
   "name": "python",
   "nbconvert_exporter": "python",
   "pygments_lexer": "ipython3",
   "version": "3.12.3"
  }
 },
 "nbformat": 4,
 "nbformat_minor": 5
}
