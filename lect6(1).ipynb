{
 "cells": [
  {
   "cell_type": "markdown",
   "metadata": {
    "slideshow": {
     "slide_type": "slide"
    }
   },
   "source": [
    "Astronomical data analysis using Python\n",
    "===\n",
    "\n",
    "Lecture 6\n",
    "-------"
   ]
  },
  {
   "cell_type": "markdown",
   "metadata": {
    "slideshow": {
     "slide_type": "slide"
    }
   },
   "source": [
    "# List Comprehension "
   ]
  },
  {
   "cell_type": "code",
   "execution_count": 1,
   "metadata": {
    "slideshow": {
     "slide_type": "-"
    }
   },
   "outputs": [
    {
     "name": "stdout",
     "output_type": "stream",
     "text": [
      "['Pune', 'Mumbai', 'Gauhati']\n"
     ]
    }
   ],
   "source": [
    "cities = [\"Pune\", \"Mumbai\", \"Delhi\", \"Gauhati\", \"Chennai\"]\n",
    "newlist = []\n",
    "\n",
    "for x in cities:\n",
    "  if \"u\" in x:\n",
    "    newlist.append(x)\n",
    "\n",
    "print(newlist)"
   ]
  },
  {
   "cell_type": "code",
   "execution_count": 2,
   "metadata": {
    "slideshow": {
     "slide_type": "-"
    }
   },
   "outputs": [
    {
     "name": "stdout",
     "output_type": "stream",
     "text": [
      "['Pune', 'Mumbai', 'Gauhati']\n"
     ]
    }
   ],
   "source": [
    "cities = [\"Pune\", \"Mumbai\", \"Delhi\", \"Gauhati\", \"Chennai\"]\n",
    "\n",
    "newlist = [x for x in cities if \"u\" in x]\n",
    "\n",
    "print(newlist)"
   ]
  },
  {
   "cell_type": "markdown",
   "metadata": {
    "slideshow": {
     "slide_type": "slide"
    }
   },
   "source": [
    "# List comprehension syntax\n",
    "\n",
    "`newlist = [expression for item in iterable if condition == True]`\n",
    "\n",
    "The old list remains unchanged in the list comprehension. The iterable can be any iterable including a list. The if condition is optional."
   ]
  },
  {
   "cell_type": "code",
   "execution_count": 3,
   "metadata": {},
   "outputs": [
    {
     "name": "stdout",
     "output_type": "stream",
     "text": [
      "[4, 5, 6]\n"
     ]
    }
   ],
   "source": [
    "newlist = [x for x in range(10) if (x < 7) & (x >3)]\n",
    "print (newlist)"
   ]
  },
  {
   "cell_type": "markdown",
   "metadata": {
    "slideshow": {
     "slide_type": "slide"
    }
   },
   "source": [
    "# Nested lists"
   ]
  },
  {
   "cell_type": "code",
   "execution_count": 4,
   "metadata": {
    "slideshow": {
     "slide_type": "-"
    }
   },
   "outputs": [
    {
     "name": "stdout",
     "output_type": "stream",
     "text": [
      "[(0, 0), (0, 1), (0, 2), (1, 0), (1, 1), (1, 2), (2, 0), (2, 1), (2, 2)]\n"
     ]
    }
   ],
   "source": [
    "k = [ (i,j) for i in range(3) for j in range(3) ]\n",
    "print (k)"
   ]
  },
  {
   "cell_type": "markdown",
   "metadata": {
    "slideshow": {
     "slide_type": "slide"
    }
   },
   "source": [
    "# List Comprehensions - Dos and Donts\n",
    "\n",
    "For simple for-loops like we saw earlier, you SHOULD use list comprehensions.\n",
    "In fact, list comprehensions run faster than traditional loops.\n",
    "\n",
    "But,\n",
    "\n",
    "List comprehensions, especially nested ones, can obfuscate code.\n",
    "In such a case, it's better to use elaborate loops."
   ]
  },
  {
   "cell_type": "markdown",
   "metadata": {
    "slideshow": {
     "slide_type": "slide"
    }
   },
   "source": [
    "# Installing third party modules\n",
    "\n",
    "See the instructions at:\n",
    "\n",
    "https://docs.python.org/3/installing/index.html\n",
    "\n",
    "Please install `numpy, scipy, matplotlib, astropy, astroquery` modules on your computer.\n",
    "Except for `astroquery` all modules are also available in Google Colab. Even astroquery can be installed on Google Colab using `!pip install astroquery`\n",
    "\n"
   ]
  },
  {
   "cell_type": "markdown",
   "metadata": {
    "slideshow": {
     "slide_type": "slide"
    }
   },
   "source": [
    "# Python data processing using lists is very slow\n",
    "\n",
    "Compared to compiled languages, for loops in Python run extremely slowly. The alternative is to define a more restrictive data structure than a list - **a numpy array**. Unlike lists, a numpy array contains data of only one type.\n",
    "\n",
    "In exchange for this restriction, numpy arrays provide for unprecendented speed and convenience and make numerical computation practically possible in Python. The high speed of numpy is due to the fact that its underlying, highly optimised code is written in C.\n",
    "\n",
    "**All scientific and technical computing in Python today makes use of `numpy` in one way or another.**"
   ]
  },
  {
   "cell_type": "markdown",
   "metadata": {
    "slideshow": {
     "slide_type": "slide"
    }
   },
   "source": [
    "Adding two arrays - the slow Python way\n",
    "==="
   ]
  },
  {
   "cell_type": "code",
   "execution_count": 5,
   "metadata": {
    "slideshow": {
     "slide_type": "-"
    }
   },
   "outputs": [
    {
     "name": "stdout",
     "output_type": "stream",
     "text": [
      "[1, 2, 4, 4, 8, 6]\n"
     ]
    }
   ],
   "source": [
    "l1=[1,2,4]; l2=[4,8,6]\n",
    "print (l1+l2)\n"
   ]
  },
  {
   "cell_type": "code",
   "execution_count": 6,
   "metadata": {
    "slideshow": {
     "slide_type": "-"
    }
   },
   "outputs": [
    {
     "name": "stdout",
     "output_type": "stream",
     "text": [
      "[5, 10, 10]\n"
     ]
    }
   ],
   "source": [
    "l3 = [0]*3\n",
    "for i in range(3):\n",
    "    l3[i] = l1[i] +l2[i]\n",
    "    \n",
    "print (l3)"
   ]
  },
  {
   "cell_type": "markdown",
   "metadata": {
    "slideshow": {
     "slide_type": "slide"
    }
   },
   "source": [
    "What we ideally want\n",
    "==="
   ]
  },
  {
   "cell_type": "markdown",
   "metadata": {
    "slideshow": {
     "slide_type": "-"
    }
   },
   "source": [
    "We want `print (l1+l2)` to give us `[5,10,10]`\n",
    "\n",
    "Such behaviour is common in Fortran 90, Matlab, IDL"
   ]
  },
  {
   "cell_type": "markdown",
   "metadata": {
    "slideshow": {
     "slide_type": "slide"
    }
   },
   "source": [
    "Creating an n-dimensional array - numpy.ndarray\n",
    "==="
   ]
  },
  {
   "cell_type": "code",
   "execution_count": 7,
   "metadata": {
    "slideshow": {
     "slide_type": "-"
    }
   },
   "outputs": [
    {
     "name": "stdout",
     "output_type": "stream",
     "text": [
      "2.1.2\n",
      "<class 'numpy.ndarray'>\n",
      "<class 'numpy.ndarray'>\n"
     ]
    }
   ],
   "source": [
    "import numpy as np\n",
    "print (np.version.version)\n",
    "\n",
    "a = np.array([1,2,3]) # Argument to np.array can be a list\n",
    "b = np.array((1,2,3)) # or a tuple\n",
    "print (type(a))\n",
    "print (type(b))\n"
   ]
  },
  {
   "cell_type": "markdown",
   "metadata": {
    "slideshow": {
     "slide_type": "slide"
    }
   },
   "source": [
    "Adding Arrays with numpy\n",
    "==="
   ]
  },
  {
   "cell_type": "code",
   "execution_count": 8,
   "metadata": {
    "slideshow": {
     "slide_type": "-"
    }
   },
   "outputs": [
    {
     "name": "stdout",
     "output_type": "stream",
     "text": [
      "[1, 2, 3, 4, 5, 6]\n",
      "[5 7 9]\n"
     ]
    }
   ],
   "source": [
    "l1 = [1,2,3]\n",
    "l2=[4,5,6]\n",
    "a1 = np.array(l1)\n",
    "a2 = np.array(l2)\n",
    "print (l1+l2)\n",
    "print (a1+a2)"
   ]
  },
  {
   "cell_type": "code",
   "execution_count": 9,
   "metadata": {},
   "outputs": [],
   "source": [
    "import numpy as np\n"
   ]
  },
  {
   "cell_type": "markdown",
   "metadata": {
    "slideshow": {
     "slide_type": "slide"
    }
   },
   "source": [
    "Arithmetic operations in numpy\n",
    "==="
   ]
  },
  {
   "cell_type": "code",
   "execution_count": 10,
   "metadata": {
    "slideshow": {
     "slide_type": "-"
    }
   },
   "outputs": [
    {
     "name": "stdout",
     "output_type": "stream",
     "text": [
      "[5 7 9]\n",
      "[-3 -3 -3]\n",
      "[ 4 10 18]\n",
      "[0.25 0.4  0.5 ]\n",
      "[0 1 0]\n",
      "[1 4 9]\n"
     ]
    }
   ],
   "source": [
    "print (a1+a2) # addition\n",
    "print (a1-a2) # substraction\n",
    "print (a1*a2) # multiplication\n",
    "print (a1/a2) # division\n",
    "print (a2%a1) # modulo\n",
    "print (a1**2) # elementwise squared"
   ]
  },
  {
   "cell_type": "markdown",
   "metadata": {
    "slideshow": {
     "slide_type": "slide"
    }
   },
   "source": [
    "Numpy ufuncs\n",
    "==="
   ]
  },
  {
   "cell_type": "code",
   "execution_count": 11,
   "metadata": {},
   "outputs": [],
   "source": [
    "import numpy as np\n"
   ]
  },
  {
   "cell_type": "markdown",
   "metadata": {},
   "source": [
    "add (+) log  greater (>) subtract (-) log10 greater_equal ($>=$)\n",
    "\n",
    "multiply (*) cos  less (<) divide (/) arcos less_equal (<=)\n",
    "\n",
    "remainder (%) sin logical_and absolute abs arcsin logical_or\n",
    "\n",
    "floor tan logical_xor ceil  arctan  bitwise_and (&)\n",
    "\n",
    "fmod cosh bitwise_or (|) conjugate sinh  bitwise_xor (^)\n",
    "\n",
    "minimum tanh bitwise_not (~) maximum  sqrt rshift (>>)\n",
    "\n",
    "power (**) equal (==) lshift (<<) exp not_equal (!=)\n"
   ]
  },
  {
   "cell_type": "markdown",
   "metadata": {
    "slideshow": {
     "slide_type": "slide"
    }
   },
   "source": [
    "Why is an array not a list?\n",
    "==="
   ]
  },
  {
   "cell_type": "markdown",
   "metadata": {
    "slideshow": {
     "slide_type": "-"
    }
   },
   "source": [
    "A numpy array is a table of elements (usually numbers),\n",
    "all of the __same__ type. Whatever comes inside the numpy array is of the same type and that is the one of the important things to keep in the mind."
   ]
  },
  {
   "cell_type": "markdown",
   "metadata": {
    "slideshow": {
     "slide_type": "slide"
    }
   },
   "source": [
    "Implicit and explicit datatype declaration\n",
    "==="
   ]
  },
  {
   "cell_type": "code",
   "execution_count": 12,
   "metadata": {
    "slideshow": {
     "slide_type": "-"
    }
   },
   "outputs": [
    {
     "name": "stdout",
     "output_type": "stream",
     "text": [
      "int64\n",
      "float64\n",
      "complex128\n"
     ]
    }
   ],
   "source": [
    "import numpy as np\n",
    "ai = np.array([1, 2, 3])\n",
    "af = np.array([1, 2, 3.])\n",
    "ac = np.array([1j, 2, 3.])\n",
    "print (ai.dtype)\n",
    "print (af.dtype)\n",
    "print (ac.dtype)\n",
    "af = np.array([1,2,3], float)\n",
    "ac = np.array([1,2,3], complex)\n",
    "afn = np.array([1,2], np.longdouble) # numpy float type\n"
   ]
  },
  {
   "cell_type": "markdown",
   "metadata": {
    "slideshow": {
     "slide_type": "slide"
    }
   },
   "source": [
    "Numpy float datatypes\n",
    "==="
   ]
  },
  {
   "cell_type": "markdown",
   "metadata": {
    "slideshow": {
     "slide_type": "-"
    }
   },
   "source": [
    "* `np.float` (== Python float type)\n",
    "* `np.float32` (single precision)\n",
    "* `np.float64` (double precision)\n",
    "* `np.double` (synonym, double prec.)\n",
    "* `np.longdouble` (very platform dependent !!! np.float96 or np.float128)"
   ]
  },
  {
   "cell_type": "markdown",
   "metadata": {
    "slideshow": {
     "slide_type": "slide"
    }
   },
   "source": [
    "Other numpy datatypes\n",
    "==="
   ]
  },
  {
   "cell_type": "markdown",
   "metadata": {
    "slideshow": {
     "slide_type": "-"
    }
   },
   "source": [
    "* Integer datatypes `np.int8 ...int16 ...int32 ...int64`\n",
    "* Unsigned (!) integer datatypes `np.uint8 ...uint16 ...uint32 ...uint64`\n",
    "* Complex datatypes `np.complex64 ...complex128...complex256`\n",
    "* Boolean `np.bool`\n"
   ]
  },
  {
   "cell_type": "markdown",
   "metadata": {
    "slideshow": {
     "slide_type": "slide"
    }
   },
   "source": [
    "Defining your own datatypes\n",
    "===\n"
   ]
  },
  {
   "cell_type": "code",
   "execution_count": 13,
   "metadata": {
    "slideshow": {
     "slide_type": "-"
    }
   },
   "outputs": [
    {
     "name": "stdout",
     "output_type": "stream",
     "text": [
      "[  0 100]\n",
      "[ True False]\n",
      "100\n",
      "True\n"
     ]
    }
   ],
   "source": [
    "dt= np.dtype([('value',int),('status',bool)])\n",
    "a = np.array([(0,True),(100,False)],dtype=dt)\n",
    "print (a['value'])\n",
    "print (a['status'])\n",
    "print (a['value'][1])\n",
    "print (a[0]['status'])\n"
   ]
  },
  {
   "cell_type": "markdown",
   "metadata": {},
   "source": [
    "### Extra Practice Problem: Track Students' Grades and Attendance\n",
    "\n",
    "You are tasked with maintaining records of students' grades and attendance in a class. Each student has:\n",
    "grade: An integer representing their grade in the class attended: A boolean value representing whether the student has attended class recently (True for attended, False for absent).\n",
    "You need to:\n",
    "\n",
    "    Create a list of 5 students with their grades and attendance status.\n",
    "    Write a function to calculate the average grade of students who attended the class.\n",
    "    Write a function to print the grades of students who did not attend the class.\n",
    "\n"
   ]
  },
  {
   "cell_type": "code",
   "execution_count": 14,
   "metadata": {},
   "outputs": [
    {
     "name": "stdout",
     "output_type": "stream",
     "text": [
      "<class 'numpy.ndarray'>\n",
      "39.0\n",
      "\n",
      "23\n",
      "97\n",
      "47\n"
     ]
    }
   ],
   "source": [
    "import numpy\n",
    "dt=np.dtype([('grades',int),('status',bool)])\n",
    "student_data=np.array([(20,True),(23,False),(97,False),(58,True),(47,False)],dtype=dt)\n",
    "print(type(student_data))\n",
    "def avg(student_data):\n",
    "    sum=0\n",
    "    counter=0\n",
    "    for i in range(0,len(student_data)):\n",
    "        if student_data['status'][i]== True:\n",
    "            sum=sum+student_data['grades'][i]\n",
    "            counter=counter+1\n",
    "    return sum/counter\n",
    "        \n",
    "\n",
    "def grades_na(student_data):\n",
    "    for i in range(0,len(student_data)):\n",
    "        if student_data['status'][i]==False:\n",
    "            print(student_data['grades'][i])\n",
    "\n",
    "print(avg(student_data))   \n",
    "print(\"\")\n",
    "grades_na(student_data)\n"
   ]
  },
  {
   "cell_type": "markdown",
   "metadata": {
    "slideshow": {
     "slide_type": "-"
    }
   },
   "source": [
    "Structured arrays are sometimes quite useful for reading binary data."
   ]
  },
  {
   "cell_type": "markdown",
   "metadata": {
    "slideshow": {
     "slide_type": "slide"
    }
   },
   "source": [
    "Convenience functions to create arrays\n",
    "==="
   ]
  },
  {
   "cell_type": "code",
   "execution_count": 15,
   "metadata": {
    "slideshow": {
     "slide_type": "-"
    }
   },
   "outputs": [
    {
     "name": "stdout",
     "output_type": "stream",
     "text": [
      "[0. 0. 0.]\n",
      "[1. 1. 1. 1. 1. 1. 1. 1. 1. 1.]\n",
      "[1. 1. 1. 1. 1. 1. 1. 1. 1. 1.]\n",
      "[0. 0. 0. 0. 0. 0. 0. 0. 0. 0.]\n",
      "[1. 1. 1. 1. 1. 1. 1. 1. 1. 1.]\n"
     ]
    }
   ],
   "source": [
    "z = np.zeros(3)\n",
    "print (z)\n",
    "o = np.ones(10)\n",
    "print (o)\n",
    "e = np.empty(10) # very fast, use only if array elements are guaranteed to be initialised\n",
    "print (e) # uninitialised values, could be anything!(y)\n",
    "print (np.zeros_like(e))\n",
    "print (np.ones_like(e))\n"
   ]
  },
  {
   "cell_type": "markdown",
   "metadata": {
    "slideshow": {
     "slide_type": "slide"
    }
   },
   "source": [
    "Multidimensional Arrays\n",
    "==="
   ]
  },
  {
   "cell_type": "code",
   "execution_count": 16,
   "metadata": {
    "slideshow": {
     "slide_type": "-"
    }
   },
   "outputs": [
    {
     "name": "stdout",
     "output_type": "stream",
     "text": [
      "[[1, 2, 3], [4, 5, 6]]\n",
      "[[1 2 3]\n",
      " [4 5 6]]\n"
     ]
    }
   ],
   "source": [
    "l2 = [[1,2,3],[4,5,6]]\n",
    "a2 = np.array(l2)\n",
    "print (l2)\n",
    "print (a2)\n",
    " "
   ]
  },
  {
   "cell_type": "markdown",
   "metadata": {
    "slideshow": {
     "slide_type": "slide"
    }
   },
   "source": [
    "Swapping of  axes\n",
    "==="
   ]
  },
  {
   "cell_type": "markdown",
   "metadata": {
    "slideshow": {
     "slide_type": "-"
    }
   },
   "source": [
    "Note that, like C (and unlike FORTRAN), Python is 0-indexed and the\n",
    "indices have the slowest axis first and fast axis last, i.e. for a 2-D\n",
    "image, the fast axis (X-axis) which corresponds to the FITS NAXIS1\n",
    "keyword, is the second index.\n",
    "\n",
    "How best to handle this?\n"
   ]
  },
  {
   "cell_type": "markdown",
   "metadata": {
    "slideshow": {
     "slide_type": "slide"
    }
   },
   "source": [
    "Accessing Arrays\n",
    "==="
   ]
  },
  {
   "cell_type": "code",
   "execution_count": 17,
   "metadata": {
    "slideshow": {
     "slide_type": "-"
    }
   },
   "outputs": [
    {
     "name": "stdout",
     "output_type": "stream",
     "text": [
      "[[1, 2, 3], [4, 5, 6]]\n",
      "2\n",
      "2\n",
      "2\n",
      "[2 3]\n",
      "[1 4]\n"
     ]
    }
   ],
   "source": [
    "print(l2)\n",
    "print (l2[0][1])\n",
    "print (a2[0][1])\n",
    "print (a2[0,1]) # works only with\n",
    "print (a2[0,1:]) # arrays !!!\n",
    "print (a2[:,0]) #\n"
   ]
  },
  {
   "cell_type": "markdown",
   "metadata": {
    "slideshow": {
     "slide_type": "slide"
    }
   },
   "source": [
    "Determine size and shape\n",
    "==="
   ]
  },
  {
   "cell_type": "code",
   "execution_count": 18,
   "metadata": {
    "slideshow": {
     "slide_type": "-"
    }
   },
   "outputs": [
    {
     "name": "stdout",
     "output_type": "stream",
     "text": [
      "2 3\n",
      "2 3\n",
      "(2, 3)\n",
      "2\n",
      "2\n",
      "3\n",
      "(3, 2, 2)\n"
     ]
    }
   ],
   "source": [
    "# determine the dimensions\n",
    "# remember: l2=[[1,2,3],[4,5,6]]\n",
    "# how many rows, how many columns ?\n",
    "\n",
    "print (len(l2), len(l2[0]))\n",
    "\n",
    "print (len(a2), len(a2[0]))\n",
    "\n",
    "print (a2.shape) # shape attribute\n",
    "\n",
    "print(a2.ndim)\n",
    "\n",
    "print(np.array([[1,2,3],[4,5,6],[7,8,9]],dtype=int).ndim) #we are creating a 3*3 matrix but this has dimension 2 row and coloumn\n",
    "\n",
    "l7=np.array([[[1,2],[3,4]],[[5,6],[7,8]],[[9,10],[11,12]]],dtype=float) #dimension is like we are stacking one matrices over the other\n",
    "\n",
    "print(l7.ndim)\n",
    "\n",
    "print(l7.shape)\n",
    "\n",
    "\n"
   ]
  },
  {
   "cell_type": "markdown",
   "metadata": {
    "slideshow": {
     "slide_type": "slide"
    }
   },
   "source": [
    "Array attributes\n",
    "==="
   ]
  },
  {
   "cell_type": "markdown",
   "metadata": {
    "slideshow": {
     "slide_type": "-"
    }
   },
   "source": [
    "* `array.ndim`: number of dimensions\n",
    "* `array.shape`: the dimensions\n",
    "* `array.size`: total number of elements\n",
    "* `array.dtype`: type of the data\n"
   ]
  },
  {
   "cell_type": "markdown",
   "metadata": {
    "slideshow": {
     "slide_type": "slide"
    }
   },
   "source": [
    "Initialising multidimensional arrays\n",
    "==="
   ]
  },
  {
   "cell_type": "code",
   "execution_count": 19,
   "metadata": {
    "slideshow": {
     "slide_type": "-"
    }
   },
   "outputs": [
    {
     "name": "stdout",
     "output_type": "stream",
     "text": [
      "[[1. 1. 1. 1. 1. 1. 1. 1. 1. 1.]\n",
      " [1. 1. 1. 1. 1. 1. 1. 1. 1. 1.]\n",
      " [1. 1. 1. 1. 1. 1. 1. 1. 1. 1.]]\n",
      "[[[ 1.37401291e-316  0.00000000e+000  2.10966031e-321]\n",
      "  [ 3.73306906e-301  2.36050813e-310  2.38694104e-253]\n",
      "  [ 1.99257464e-311  1.15532511e-272 -4.04095323e+083]]\n",
      "\n",
      " [[ 1.11164770e-321  1.38156486e-316  6.49418099e-310]\n",
      "  [-1.25598934e+116  1.87400127e-214  9.87871328e-181]\n",
      "  [ 1.21529897e-250  1.58958006e+186  9.50421884e-252]]\n",
      "\n",
      " [[ 1.05577724e+186  1.01799025e+109  4.19896607e-106]\n",
      "  [-2.00502265e+251  4.66514560e-304  1.26088873e-125]\n",
      "  [ 3.22297245e-125  1.49467441e+131  4.59172782e-304]]\n",
      "\n",
      " [[ 4.07039552e-308  4.24161864e-130  2.05783651e-149]\n",
      "  [ 1.16005406e-173  4.66641978e-193 -2.11115173e+089]\n",
      "  [ 2.96463708e-159  1.03440612e-289  1.45241507e-312]]]\n"
     ]
    }
   ],
   "source": [
    "# np.zeros, np.ones, et al.\n",
    "# can be used to create multidim\n",
    "# arrays, too !\n",
    "\n",
    "o = np.ones( (3,10) )\n",
    "\n",
    "e = np.empty( (4,3,3), float)\n",
    "\n",
    "\n",
    "print(o)\n",
    "print(e)"
   ]
  },
  {
   "cell_type": "markdown",
   "metadata": {
    "slideshow": {
     "slide_type": "slide"
    }
   },
   "source": [
    "Convenience functions\n",
    "==="
   ]
  },
  {
   "cell_type": "code",
   "execution_count": 20,
   "metadata": {
    "slideshow": {
     "slide_type": "-"
    }
   },
   "outputs": [],
   "source": [
    "b = np.linspace(-2.5,1.5,17)\n",
    "\n",
    "# 17 equally spaced numbers from -2.5 to 1.5\n",
    "# including the boundary values !\n",
    "\n",
    "c = np.arange(-2.5,1.51,0.25) \n",
    "# Unreliable because upperbound excluded, rounding errors, use linspace\n",
    "\n",
    "x = np.linspace(0, 3.14, 100)\n",
    "\n",
    "m = np.logspace(-2,3,9) # special for astronomers!\n",
    "\n",
    "y = np.sin(x)        #no need of recursion function now\n",
    "\n"
   ]
  },
  {
   "cell_type": "markdown",
   "metadata": {
    "slideshow": {
     "slide_type": "slide"
    }
   },
   "source": [
    "Slicing in numpy\n",
    "==="
   ]
  },
  {
   "cell_type": "code",
   "execution_count": 21,
   "metadata": {
    "slideshow": {
     "slide_type": "-"
    }
   },
   "outputs": [
    {
     "name": "stdout",
     "output_type": "stream",
     "text": [
      "[]\n",
      "[[0. 0. 0. 0.]\n",
      " [0. 0. 0. 0.]\n",
      " [0. 0. 1. 1.]\n",
      " [0. 0. 1. 1.]]\n",
      "[[2. 2. 2. 2.]\n",
      " [0. 0. 0. 0.]\n",
      " [0. 0. 1. 1.]\n",
      " [0. 0. 1. 1.]]\n",
      "[[2. 5. 5. 2.]\n",
      " [0. 3. 3. 0.]\n",
      " [0. 3. 4. 1.]\n",
      " [0. 3. 4. 1.]]\n"
     ]
    }
   ],
   "source": [
    "a = np.zeros( (4,4) )\n",
    "\n",
    "print (a[2:4][2:4]) # does this work? because np array has row,coloumn\n",
    "\n",
    "a[2:4,2:4] = 1 # Works\n",
    "print (a)\n",
    "a[0] = 2\n",
    "print (a)\n",
    "a[:,1:3] += 3\n",
    "print (a)\n",
    "# the array shape is unaltered by\n",
    "# these operations\n"
   ]
  },
  {
   "cell_type": "markdown",
   "metadata": {
    "slideshow": {
     "slide_type": "slide"
    }
   },
   "source": [
    "Rows and columns\n",
    "==="
   ]
  },
  {
   "cell_type": "code",
   "execution_count": 22,
   "metadata": {
    "slideshow": {
     "slide_type": "-"
    }
   },
   "outputs": [
    {
     "name": "stdout",
     "output_type": "stream",
     "text": [
      "[4. 4. 4. 4.]\n"
     ]
    }
   ],
   "source": [
    "a = np.zeros( (4,4) )\n",
    "\n",
    "# accessing rows and columns\n",
    "\n",
    "a[0,:] # the first row\n",
    "\n",
    "a[0] = 4 # the first row set to 4\n",
    "\n",
    "# read a[i,...] as\n",
    "# a[i,<as many :, as needed>]\n",
    "# this is a specific numpy notation\n",
    "\n",
    "print (a[0,...])\n",
    "\n",
    "a[:,1] = 5 # the second column\n",
    "\n",
    "a[:,-1] = 6 # the last column\n"
   ]
  },
  {
   "cell_type": "markdown",
   "metadata": {
    "slideshow": {
     "slide_type": "slide"
    }
   },
   "source": [
    "numpy ASCII file reading - obsoleted by astropy.io.ascii\n",
    "==="
   ]
  },
  {
   "cell_type": "markdown",
   "metadata": {
    "slideshow": {
     "slide_type": "-"
    }
   },
   "source": [
    "fname = 'myfile.dat'\n",
    "\n",
    "data = np.loadtxt(fname)\n",
    "\n",
    "c24 = np.loadtxt(fname,usecols=(1,3)) # to select columns\n",
    "\n",
    "n,w,x,y,z = np.loadtxt(fname,unpack = True)\n",
    "\n",
    "w,y = np.loadtxt(fname,usecols=(1,3), unpack=True)\n",
    "\n",
    "fname2 = 'mydata2.dat' # a different data file\n",
    "\n",
    "data2 = np.loadtxt(fname2,delimiter='/', comments='!',skiprows=3) \n",
    "\n",
    "# default for comments is '#'\n",
    "\n",
    "np.savetxt('result.dat', res,fmt='\\%d :\\\\t \\%.6f')"
   ]
  },
  {
   "cell_type": "markdown",
   "metadata": {
    "slideshow": {
     "slide_type": "slide"
    }
   },
   "source": [
    "Saving/Loading binary arrays\n",
    "==="
   ]
  },
  {
   "cell_type": "code",
   "execution_count": 23,
   "metadata": {
    "slideshow": {
     "slide_type": "-"
    }
   },
   "outputs": [
    {
     "name": "stdout",
     "output_type": "stream",
     "text": [
      "[0 1 2 3 4 5 6 7 8 9]\n",
      "[ 0  1  2  3  4  5  6  7  8  9 10 11 12 13 14 15 16 17 18 19]\n"
     ]
    }
   ],
   "source": [
    "#saving and loading the data in npz format\n",
    "data=np.arange(10)\n",
    "data2 = np.arange(20)\n",
    "np.savez('/tmp/myarrays',x=data,y=data2)\n",
    "\n",
    "myarrays = np.load('/tmp/myarrays.npz')\n",
    "\n",
    "print (myarrays['x'])\n",
    "\n",
    "print (myarrays['y'])"
   ]
  },
  {
   "cell_type": "markdown",
   "metadata": {
    "slideshow": {
     "slide_type": "-"
    }
   },
   "source": [
    "more reliable than pickling files on disk."
   ]
  },
  {
   "cell_type": "markdown",
   "metadata": {
    "slideshow": {
     "slide_type": "slide"
    }
   },
   "source": [
    "Reshape and where\n",
    "==="
   ]
  },
  {
   "cell_type": "code",
   "execution_count": 24,
   "metadata": {
    "scrolled": true,
    "slideshow": {
     "slide_type": "-"
    }
   },
   "outputs": [
    {
     "data": {
      "text/plain": [
       "<matplotlib.image.AxesImage at 0x778c055bde20>"
      ]
     },
     "execution_count": 24,
     "metadata": {},
     "output_type": "execute_result"
    },
    {
     "data": {
      "image/png": "[encoded data removed]",
      "text/plain": [
       "<Figure size 640x480 with 1 Axes>"
      ]
     },
     "metadata": {},
     "output_type": "display_data"
    }
   ],
   "source": [
    "import matplotlib.pyplot as plt\n",
    "x = np.arange(100).reshape((10,10))\n",
    "plt.imshow(x,interpolation='none')\n",
    "#this is imshow which is different than the plt function \n",
    "#imshow is generally done for the image data"
   ]
  },
  {
   "cell_type": "code",
   "execution_count": 25,
   "metadata": {
    "scrolled": true,
    "slideshow": {
     "slide_type": "slide"
    }
   },
   "outputs": [
    {
     "name": "stdout",
     "output_type": "stream",
     "text": [
      "[[ 0  1  2  3  4  5  6  7  8  9]\n",
      " [10 11 12 13 14 15 16 17 18 19]\n",
      " [20 21 22 23 24 25 26 27 28 29]\n",
      " [30 31 32 33 34 35 36 37 38 39]\n",
      " [40 41 42 43 44 45 46 47 48 49]\n",
      " [50  0  0  0  0  0  0  0  0  0]\n",
      " [ 0  0  0  0  0  0  0  0  0  0]\n",
      " [ 0  0  0  0  0 75 76 77 78 79]\n",
      " [80 81 82 83 84 85 86 87 88 89]\n",
      " [90 91 92 93 94 95 96 97 98 99]]\n"
     ]
    },
    {
     "data": {
      "text/plain": [
       "<matplotlib.colorbar.Colorbar at 0x778c0537af60>"
      ]
     },
     "execution_count": 25,
     "metadata": {},
     "output_type": "execute_result"
    },
    {
     "data": {
      "image/png": "[encoded data removed]",
      "text/plain": [
       "<Figure size 640x480 with 2 Axes>"
      ]
     },
     "metadata": {},
     "output_type": "display_data"
    }
   ],
   "source": [
    "x=np.arange(0,100).reshape(10,10)\n",
    "x[np.where(np.logical_and(x > 50,x <75))] = 0\n",
    "print(x)\n",
    "plt.imshow(x,interpolation='none')\n",
    "plt.colorbar()"
   ]
  },
  {
   "cell_type": "code",
   "execution_count": 32,
   "metadata": {},
   "outputs": [
    {
     "name": "stdout",
     "output_type": "stream",
     "text": [
      "[[ 0  1  2  3  4  5  6  7  8  9]\n",
      " [10 11 12 13 14 15 16 17 18 19]\n",
      " [20 21 22 23 24 25 26 27 28 29]\n",
      " [30 31 32 33 34 35 36 37 38 39]\n",
      " [40 41 42 43 44 45 46 47 48 49]\n",
      " [50  0  0  0  0  0  0  0  0  0]\n",
      " [ 0  0  0  0  0  0  0  0  0  0]\n",
      " [ 0  0  0  0  0  0  0  0  0  0]\n",
      " [ 0  0  0  0  0  0  0  0  0  0]\n",
      " [ 0  0  0  0  0  0  0  0  0  0]]\n"
     ]
    }
   ],
   "source": [
    "x[np.where(x>50)]=0\n",
    "print(x)\n",
    "# np.where(any conditional arguments) it will return the indices"
   ]
  },
  {
   "cell_type": "markdown",
   "metadata": {
    "slideshow": {
     "slide_type": "-"
    }
   },
   "source": [
    "**np.where() may be the single most important function that you will use in numpy.** "
   ]
  },
  {
   "cell_type": "markdown",
   "metadata": {
    "slideshow": {
     "slide_type": "slide"
    }
   },
   "source": [
    "Numpy documentation with examples\n",
    "==="
   ]
  },
  {
   "cell_type": "markdown",
   "metadata": {
    "slideshow": {
     "slide_type": "-"
    }
   },
   "source": [
    "There are over 400 functions in numpy (doing everything from rebinning to\n",
    "obtaining polynomial least squares fits) in numpy for array\n",
    "manipulation.\n",
    "\n",
    "As time permits, please read through the excellent Numpy user guide at\n",
    "\n",
    "https://numpy.org/doc/stable/user/index.html\n",
    "\n",
    "We will cover only a fraction of the capabilities on `numpy`in this course.\n",
    "\n"
   ]
  },
  {
   "cell_type": "markdown",
   "metadata": {
    "slideshow": {
     "slide_type": "slide"
    }
   },
   "source": [
    "Masked arrays - np.ma\n",
    "==="
   ]
  },
  {
   "cell_type": "markdown",
   "metadata": {
    "slideshow": {
     "slide_type": "-"
    }
   },
   "source": [
    "Masked arrays are arrays that may have missing or invalid entries. Very common in astronomy."
   ]
  },
  {
   "cell_type": "code",
   "execution_count": null,
   "metadata": {},
   "outputs": [],
   "source": [
    "help(np.ma.masked_where)"
   ]
  },
  {
   "cell_type": "code",
   "execution_count": 42,
   "metadata": {
    "slideshow": {
     "slide_type": "-"
    }
   },
   "outputs": [
    {
     "name": "stdout",
     "output_type": "stream",
     "text": [
      "[-- -- 3 -1 5]\n",
      "2.0\n",
      "2.75\n",
      "[1 2 3 -1 --]\n"
     ]
    }
   ],
   "source": [
    "import numpy as np\n",
    "import numpy.ma as ma\n",
    "\n",
    "x = np.array([1, 2, 3, -1, 5])\n",
    "mx = ma.masked_array(x, mask=[0, 0, 0, 1, 0])\n",
    "mx2 = ma.masked_array(x, mask=[1, 1, 0, 0, 0])\n",
    "mx2 = ma.masked_array(x, mask=[True, True, False, False, False]) # equivalent more Pythonic syntax\n",
    "print (mx2)\n",
    "print (x.mean())\n",
    "print (mx.mean())\n",
    "\n",
    "mx/mx2 # Arithmetic operations on 2 masked arrays possible.\n",
    "\n",
    "y = ma.masked_where(x>4,x)\n",
    "print (y)"
   ]
  },
  {
   "cell_type": "markdown",
   "metadata": {
    "slideshow": {
     "slide_type": "slide"
    }
   },
   "source": [
    "Numpy functions and object methods\n",
    "==="
   ]
  },
  {
   "cell_type": "code",
   "execution_count": 28,
   "metadata": {
    "slideshow": {
     "slide_type": "-"
    }
   },
   "outputs": [
    {
     "name": "stdout",
     "output_type": "stream",
     "text": [
      "4950\n",
      "4950\n"
     ]
    }
   ],
   "source": [
    "a = np.arange(100)\n",
    "\n",
    "print (np.sum(a)) # Functional programming\n",
    "\n",
    "print (a.sum()) # Object oriented programming\n",
    "\n",
    "# The same underlying code provides both functional and OO calling functions."
   ]
  },
  {
   "cell_type": "markdown",
   "metadata": {
    "slideshow": {
     "slide_type": "slide"
    }
   },
   "source": [
    "Histograms\n",
    "==="
   ]
  },
  {
   "cell_type": "code",
   "execution_count": 43,
   "metadata": {},
   "outputs": [
    {
     "name": "stdout",
     "output_type": "stream",
     "text": [
      "Help on method randn in module numpy.random.mtrand:\n",
      "\n",
      "randn(*args) method of numpy.random.mtrand.RandomState instance\n",
      "    randn(d0, d1, ..., dn)\n",
      "\n",
      "    Return a sample (or samples) from the \"standard normal\" distribution.\n",
      "\n",
      "    .. note::\n",
      "        This is a convenience function for users porting code from Matlab,\n",
      "        and wraps `standard_normal`. That function takes a\n",
      "        tuple to specify the size of the output, which is consistent with\n",
      "        other NumPy functions like `numpy.zeros` and `numpy.ones`.\n",
      "\n",
      "    .. note::\n",
      "        New code should use the\n",
      "        `~numpy.random.Generator.standard_normal`\n",
      "        method of a `~numpy.random.Generator` instance instead;\n",
      "        please see the :ref:`random-quick-start`.\n",
      "\n",
      "    If positive int_like arguments are provided, `randn` generates an array\n",
      "    of shape ``(d0, d1, ..., dn)``, filled\n",
      "    with random floats sampled from a univariate \"normal\" (Gaussian)\n",
      "    distribution of mean 0 and variance 1. A single float randomly sampled\n",
      "    from the distribution is returned if no argument is provided.\n",
      "\n",
      "    Parameters\n",
      "    ----------\n",
      "    d0, d1, ..., dn : int, optional\n",
      "        The dimensions of the returned array, must be non-negative.\n",
      "        If no argument is given a single Python float is returned.\n",
      "\n",
      "    Returns\n",
      "    -------\n",
      "    Z : ndarray or float\n",
      "        A ``(d0, d1, ..., dn)``-shaped array of floating-point samples from\n",
      "        the standard normal distribution, or a single such float if\n",
      "        no parameters were supplied.\n",
      "\n",
      "    See Also\n",
      "    --------\n",
      "    standard_normal : Similar, but takes a tuple as its argument.\n",
      "    normal : Also accepts mu and sigma arguments.\n",
      "    random.Generator.standard_normal: which should be used for new code.\n",
      "\n",
      "    Notes\n",
      "    -----\n",
      "    For random samples from the normal distribution with mean ``mu`` and\n",
      "    standard deviation ``sigma``, use::\n",
      "\n",
      "        sigma * np.random.randn(...) + mu\n",
      "\n",
      "    Examples\n",
      "    --------\n",
      "    >>> np.random.randn()\n",
      "    2.1923875335537315  # random\n",
      "\n",
      "    Two-by-four array of samples from the normal distribution with\n",
      "    mean 3 and standard deviation 2.5:\n",
      "\n",
      "    >>> 3 + 2.5 * np.random.randn(2, 4)\n",
      "    array([[-4.49401501,  4.00950034, -1.81814867,  7.29718677],   # random\n",
      "           [ 0.39924804,  4.68456316,  4.99394529,  4.84057254]])  # random\n",
      "\n"
     ]
    }
   ],
   "source": [
    "help(np.random.randn)"
   ]
  },
  {
   "cell_type": "code",
   "execution_count": 45,
   "metadata": {},
   "outputs": [
    {
     "name": "stdout",
     "output_type": "stream",
     "text": [
      "Help on _ArrayFunctionDispatcher in module numpy:\n",
      "\n",
      "histogram2d(x, y, bins=10, range=None, density=None, weights=None)\n",
      "    Compute the bi-dimensional histogram of two data samples.\n",
      "\n",
      "    Parameters\n",
      "    ----------\n",
      "    x : array_like, shape (N,)\n",
      "        An array containing the x coordinates of the points to be\n",
      "        histogrammed.\n",
      "    y : array_like, shape (N,)\n",
      "        An array containing the y coordinates of the points to be\n",
      "        histogrammed.\n",
      "    bins : int or array_like or [int, int] or [array, array], optional\n",
      "        The bin specification:\n",
      "\n",
      "        * If int, the number of bins for the two dimensions (nx=ny=bins).\n",
      "        * If array_like, the bin edges for the two dimensions\n",
      "          (x_edges=y_edges=bins).\n",
      "        * If [int, int], the number of bins in each dimension\n",
      "          (nx, ny = bins).\n",
      "        * If [array, array], the bin edges in each dimension\n",
      "          (x_edges, y_edges = bins).\n",
      "        * A combination [int, array] or [array, int], where int\n",
      "          is the number of bins and array is the bin edges.\n",
      "\n",
      "    range : array_like, shape(2,2), optional\n",
      "        The leftmost and rightmost edges of the bins along each dimension\n",
      "        (if not specified explicitly in the `bins` parameters):\n",
      "        ``[[xmin, xmax], [ymin, ymax]]``. All values outside of this range\n",
      "        will be considered outliers and not tallied in the histogram.\n",
      "    density : bool, optional\n",
      "        If False, the default, returns the number of samples in each bin.\n",
      "        If True, returns the probability *density* function at the bin,\n",
      "        ``bin_count / sample_count / bin_area``.\n",
      "    weights : array_like, shape(N,), optional\n",
      "        An array of values ``w_i`` weighing each sample ``(x_i, y_i)``.\n",
      "        Weights are normalized to 1 if `density` is True. If `density` is\n",
      "        False, the values of the returned histogram are equal to the sum of\n",
      "        the weights belonging to the samples falling into each bin.\n",
      "\n",
      "    Returns\n",
      "    -------\n",
      "    H : ndarray, shape(nx, ny)\n",
      "        The bi-dimensional histogram of samples `x` and `y`. Values in `x`\n",
      "        are histogrammed along the first dimension and values in `y` are\n",
      "        histogrammed along the second dimension.\n",
      "    xedges : ndarray, shape(nx+1,)\n",
      "        The bin edges along the first dimension.\n",
      "    yedges : ndarray, shape(ny+1,)\n",
      "        The bin edges along the second dimension.\n",
      "\n",
      "    See Also\n",
      "    --------\n",
      "    histogram : 1D histogram\n",
      "    histogramdd : Multidimensional histogram\n",
      "\n",
      "    Notes\n",
      "    -----\n",
      "    When `density` is True, then the returned histogram is the sample\n",
      "    density, defined such that the sum over bins of the product\n",
      "    ``bin_value * bin_area`` is 1.\n",
      "\n",
      "    Please note that the histogram does not follow the Cartesian convention\n",
      "    where `x` values are on the abscissa and `y` values on the ordinate\n",
      "    axis.  Rather, `x` is histogrammed along the first dimension of the\n",
      "    array (vertical), and `y` along the second dimension of the array\n",
      "    (horizontal).  This ensures compatibility with `histogramdd`.\n",
      "\n",
      "    Examples\n",
      "    --------\n",
      "    >>> import numpy as np\n",
      "    >>> from matplotlib.image import NonUniformImage\n",
      "    >>> import matplotlib.pyplot as plt\n",
      "\n",
      "    Construct a 2-D histogram with variable bin width. First define the bin\n",
      "    edges:\n",
      "\n",
      "    >>> xedges = [0, 1, 3, 5]\n",
      "    >>> yedges = [0, 2, 3, 4, 6]\n",
      "\n",
      "    Next we create a histogram H with random bin content:\n",
      "\n",
      "    >>> x = np.random.normal(2, 1, 100)\n",
      "    >>> y = np.random.normal(1, 1, 100)\n",
      "    >>> H, xedges, yedges = np.histogram2d(x, y, bins=(xedges, yedges))\n",
      "    >>> # Histogram does not follow Cartesian convention (see Notes),\n",
      "    >>> # therefore transpose H for visualization purposes.\n",
      "    >>> H = H.T\n",
      "\n",
      "    :func:`imshow <matplotlib.pyplot.imshow>` can only display square bins:\n",
      "\n",
      "    >>> fig = plt.figure(figsize=(7, 3))\n",
      "    >>> ax = fig.add_subplot(131, title='imshow: square bins')\n",
      "    >>> plt.imshow(H, interpolation='nearest', origin='lower',\n",
      "    ...         extent=[xedges[0], xedges[-1], yedges[0], yedges[-1]])\n",
      "    <matplotlib.image.AxesImage object at 0x...>\n",
      "\n",
      "    :func:`pcolormesh <matplotlib.pyplot.pcolormesh>` can display actual edges:\n",
      "\n",
      "    >>> ax = fig.add_subplot(132, title='pcolormesh: actual edges',\n",
      "    ...         aspect='equal')\n",
      "    >>> X, Y = np.meshgrid(xedges, yedges)\n",
      "    >>> ax.pcolormesh(X, Y, H)\n",
      "    <matplotlib.collections.QuadMesh object at 0x...>\n",
      "\n",
      "    :class:`NonUniformImage <matplotlib.image.NonUniformImage>` can be used to\n",
      "    display actual bin edges with interpolation:\n",
      "\n",
      "    >>> ax = fig.add_subplot(133, title='NonUniformImage: interpolated',\n",
      "    ...         aspect='equal', xlim=xedges[[0, -1]], ylim=yedges[[0, -1]])\n",
      "    >>> im = NonUniformImage(ax, interpolation='bilinear')\n",
      "    >>> xcenters = (xedges[:-1] + xedges[1:]) / 2\n",
      "    >>> ycenters = (yedges[:-1] + yedges[1:]) / 2\n",
      "    >>> im.set_data(xcenters, ycenters, H)\n",
      "    >>> ax.add_image(im)\n",
      "    >>> plt.show()\n",
      "\n",
      "    It is also possible to construct a 2-D histogram without specifying bin\n",
      "    edges:\n",
      "\n",
      "    >>> # Generate non-symmetric test data\n",
      "    >>> n = 10000\n",
      "    >>> x = np.linspace(1, 100, n)\n",
      "    >>> y = 2*np.log(x) + np.random.rand(n) - 0.5\n",
      "    >>> # Compute 2d histogram. Note the order of x/y and xedges/yedges\n",
      "    >>> H, yedges, xedges = np.histogram2d(y, x, bins=20)\n",
      "\n",
      "    Now we can plot the histogram using\n",
      "    :func:`pcolormesh <matplotlib.pyplot.pcolormesh>`, and a\n",
      "    :func:`hexbin <matplotlib.pyplot.hexbin>` for comparison.\n",
      "\n",
      "    >>> # Plot histogram using pcolormesh\n",
      "    >>> fig, (ax1, ax2) = plt.subplots(ncols=2, sharey=True)\n",
      "    >>> ax1.pcolormesh(xedges, yedges, H, cmap='rainbow')\n",
      "    >>> ax1.plot(x, 2*np.log(x), 'k-')\n",
      "    >>> ax1.set_xlim(x.min(), x.max())\n",
      "    >>> ax1.set_ylim(y.min(), y.max())\n",
      "    >>> ax1.set_xlabel('x')\n",
      "    >>> ax1.set_ylabel('y')\n",
      "    >>> ax1.set_title('histogram2d')\n",
      "    >>> ax1.grid()\n",
      "\n",
      "    >>> # Create hexbin plot for comparison\n",
      "    >>> ax2.hexbin(x, y, gridsize=20, cmap='rainbow')\n",
      "    >>> ax2.plot(x, 2*np.log(x), 'k-')\n",
      "    >>> ax2.set_title('hexbin')\n",
      "    >>> ax2.set_xlim(x.min(), x.max())\n",
      "    >>> ax2.set_xlabel('x')\n",
      "    >>> ax2.grid()\n",
      "\n",
      "    >>> plt.show()\n",
      "\n"
     ]
    }
   ],
   "source": [
    "help(np.histogram2d)"
   ]
  },
  {
   "cell_type": "code",
   "execution_count": 49,
   "metadata": {},
   "outputs": [
    {
     "name": "stdout",
     "output_type": "stream",
     "text": [
      "Help on function imshow in module matplotlib.pyplot:\n",
      "\n",
      "imshow(X: 'ArrayLike | PIL.Image.Image', cmap: 'str | Colormap | None' = None, norm: 'str | Normalize | None' = None, *, aspect: \"Literal['equal', 'auto'] | float | None\" = None, interpolation: 'str | None' = None, alpha: 'float | ArrayLike | None' = None, vmin: 'float | None' = None, vmax: 'float | None' = None, origin: \"Literal['upper', 'lower'] | None\" = None, extent: 'tuple[float, float, float, float] | None' = None, interpolation_stage: \"Literal['data', 'rgba'] | None\" = None, filternorm: 'bool' = True, filterrad: 'float' = 4.0, resample: 'bool | None' = None, url: 'str | None' = None, data=None, **kwargs) -> 'AxesImage'\n",
      "    Display data as an image, i.e., on a 2D regular raster.\n",
      "\n",
      "    The input may either be actual RGB(A) data, or 2D scalar data, which\n",
      "    will be rendered as a pseudocolor image. For displaying a grayscale\n",
      "    image, set up the colormapping using the parameters\n",
      "    ``cmap='gray', vmin=0, vmax=255``.\n",
      "\n",
      "    The number of pixels used to render an image is set by the Axes size\n",
      "    and the figure *dpi*. This can lead to aliasing artifacts when\n",
      "    the image is resampled, because the displayed image size will usually\n",
      "    not match the size of *X* (see\n",
      "    :doc:`/gallery/images_contours_and_fields/image_antialiasing`).\n",
      "    The resampling can be controlled via the *interpolation* parameter\n",
      "    and/or :rc:`image.interpolation`.\n",
      "\n",
      "    Parameters\n",
      "    ----------\n",
      "    X : array-like or PIL image\n",
      "        The image data. Supported array shapes are:\n",
      "\n",
      "        - (M, N): an image with scalar data. The values are mapped to\n",
      "          colors using normalization and a colormap. See parameters *norm*,\n",
      "          *cmap*, *vmin*, *vmax*.\n",
      "        - (M, N, 3): an image with RGB values (0-1 float or 0-255 int).\n",
      "        - (M, N, 4): an image with RGBA values (0-1 float or 0-255 int),\n",
      "          i.e. including transparency.\n",
      "\n",
      "        The first two dimensions (M, N) define the rows and columns of\n",
      "        the image.\n",
      "\n",
      "        Out-of-range RGB(A) values are clipped.\n",
      "\n",
      "    cmap : str or `~matplotlib.colors.Colormap`, default: :rc:`image.cmap`\n",
      "        The Colormap instance or registered colormap name used to map scalar data\n",
      "        to colors.\n",
      "\n",
      "        This parameter is ignored if *X* is RGB(A).\n",
      "\n",
      "    norm : str or `~matplotlib.colors.Normalize`, optional\n",
      "        The normalization method used to scale scalar data to the [0, 1] range\n",
      "        before mapping to colors using *cmap*. By default, a linear scaling is\n",
      "        used, mapping the lowest value to 0 and the highest to 1.\n",
      "\n",
      "        If given, this can be one of the following:\n",
      "\n",
      "        - An instance of `.Normalize` or one of its subclasses\n",
      "          (see :ref:`colormapnorms`).\n",
      "        - A scale name, i.e. one of \"linear\", \"log\", \"symlog\", \"logit\", etc.  For a\n",
      "          list of available scales, call `matplotlib.scale.get_scale_names()`.\n",
      "          In that case, a suitable `.Normalize` subclass is dynamically generated\n",
      "          and instantiated.\n",
      "\n",
      "        This parameter is ignored if *X* is RGB(A).\n",
      "\n",
      "    vmin, vmax : float, optional\n",
      "        When using scalar data and no explicit *norm*, *vmin* and *vmax* define\n",
      "        the data range that the colormap covers. By default, the colormap covers\n",
      "        the complete value range of the supplied data. It is an error to use\n",
      "        *vmin*/*vmax* when a *norm* instance is given (but using a `str` *norm*\n",
      "        name together with *vmin*/*vmax* is acceptable).\n",
      "\n",
      "        This parameter is ignored if *X* is RGB(A).\n",
      "\n",
      "    aspect : {'equal', 'auto'} or float or None, default: None\n",
      "        The aspect ratio of the Axes.  This parameter is particularly\n",
      "        relevant for images since it determines whether data pixels are\n",
      "        square.\n",
      "\n",
      "        This parameter is a shortcut for explicitly calling\n",
      "        `.Axes.set_aspect`. See there for further details.\n",
      "\n",
      "        - 'equal': Ensures an aspect ratio of 1. Pixels will be square\n",
      "          (unless pixel sizes are explicitly made non-square in data\n",
      "          coordinates using *extent*).\n",
      "        - 'auto': The Axes is kept fixed and the aspect is adjusted so\n",
      "          that the data fit in the Axes. In general, this will result in\n",
      "          non-square pixels.\n",
      "\n",
      "        Normally, None (the default) means to use :rc:`image.aspect`.  However, if\n",
      "        the image uses a transform that does not contain the axes data transform,\n",
      "        then None means to not modify the axes aspect at all (in that case, directly\n",
      "        call `.Axes.set_aspect` if desired).\n",
      "\n",
      "    interpolation : str, default: :rc:`image.interpolation`\n",
      "        The interpolation method used.\n",
      "\n",
      "        Supported values are 'none', 'antialiased', 'nearest', 'bilinear',\n",
      "        'bicubic', 'spline16', 'spline36', 'hanning', 'hamming', 'hermite',\n",
      "        'kaiser', 'quadric', 'catrom', 'gaussian', 'bessel', 'mitchell',\n",
      "        'sinc', 'lanczos', 'blackman'.\n",
      "\n",
      "        The data *X* is resampled to the pixel size of the image on the\n",
      "        figure canvas, using the interpolation method to either up- or\n",
      "        downsample the data.\n",
      "\n",
      "        If *interpolation* is 'none', then for the ps, pdf, and svg\n",
      "        backends no down- or upsampling occurs, and the image data is\n",
      "        passed to the backend as a native image.  Note that different ps,\n",
      "        pdf, and svg viewers may display these raw pixels differently. On\n",
      "        other backends, 'none' is the same as 'nearest'.\n",
      "\n",
      "        If *interpolation* is the default 'antialiased', then 'nearest'\n",
      "        interpolation is used if the image is upsampled by more than a\n",
      "        factor of three (i.e. the number of display pixels is at least\n",
      "        three times the size of the data array).  If the upsampling rate is\n",
      "        smaller than 3, or the image is downsampled, then 'hanning'\n",
      "        interpolation is used to act as an anti-aliasing filter, unless the\n",
      "        image happens to be upsampled by exactly a factor of two or one.\n",
      "\n",
      "        See\n",
      "        :doc:`/gallery/images_contours_and_fields/interpolation_methods`\n",
      "        for an overview of the supported interpolation methods, and\n",
      "        :doc:`/gallery/images_contours_and_fields/image_antialiasing` for\n",
      "        a discussion of image antialiasing.\n",
      "\n",
      "        Some interpolation methods require an additional radius parameter,\n",
      "        which can be set by *filterrad*. Additionally, the antigrain image\n",
      "        resize filter is controlled by the parameter *filternorm*.\n",
      "\n",
      "    interpolation_stage : {'data', 'rgba'}, default: 'data'\n",
      "        If 'data', interpolation\n",
      "        is carried out on the data provided by the user.  If 'rgba', the\n",
      "        interpolation is carried out after the colormapping has been\n",
      "        applied (visual interpolation).\n",
      "\n",
      "    alpha : float or array-like, optional\n",
      "        The alpha blending value, between 0 (transparent) and 1 (opaque).\n",
      "        If *alpha* is an array, the alpha blending values are applied pixel\n",
      "        by pixel, and *alpha* must have the same shape as *X*.\n",
      "\n",
      "    origin : {'upper', 'lower'}, default: :rc:`image.origin`\n",
      "        Place the [0, 0] index of the array in the upper left or lower\n",
      "        left corner of the Axes. The convention (the default) 'upper' is\n",
      "        typically used for matrices and images.\n",
      "\n",
      "        Note that the vertical axis points upward for 'lower'\n",
      "        but downward for 'upper'.\n",
      "\n",
      "        See the :ref:`imshow_extent` tutorial for\n",
      "        examples and a more detailed description.\n",
      "\n",
      "    extent : floats (left, right, bottom, top), optional\n",
      "        The bounding box in data coordinates that the image will fill.\n",
      "        These values may be unitful and match the units of the Axes.\n",
      "        The image is stretched individually along x and y to fill the box.\n",
      "\n",
      "        The default extent is determined by the following conditions.\n",
      "        Pixels have unit size in data coordinates. Their centers are on\n",
      "        integer coordinates, and their center coordinates range from 0 to\n",
      "        columns-1 horizontally and from 0 to rows-1 vertically.\n",
      "\n",
      "        Note that the direction of the vertical axis and thus the default\n",
      "        values for top and bottom depend on *origin*:\n",
      "\n",
      "        - For ``origin == 'upper'`` the default is\n",
      "          ``(-0.5, numcols-0.5, numrows-0.5, -0.5)``.\n",
      "        - For ``origin == 'lower'`` the default is\n",
      "          ``(-0.5, numcols-0.5, -0.5, numrows-0.5)``.\n",
      "\n",
      "        See the :ref:`imshow_extent` tutorial for\n",
      "        examples and a more detailed description.\n",
      "\n",
      "    filternorm : bool, default: True\n",
      "        A parameter for the antigrain image resize filter (see the\n",
      "        antigrain documentation).  If *filternorm* is set, the filter\n",
      "        normalizes integer values and corrects the rounding errors. It\n",
      "        doesn't do anything with the source floating point values, it\n",
      "        corrects only integers according to the rule of 1.0 which means\n",
      "        that any sum of pixel weights must be equal to 1.0.  So, the\n",
      "        filter function must produce a graph of the proper shape.\n",
      "\n",
      "    filterrad : float > 0, default: 4.0\n",
      "        The filter radius for filters that have a radius parameter, i.e.\n",
      "        when interpolation is one of: 'sinc', 'lanczos' or 'blackman'.\n",
      "\n",
      "    resample : bool, default: :rc:`image.resample`\n",
      "        When *True*, use a full resampling method.  When *False*, only\n",
      "        resample when the output image is larger than the input image.\n",
      "\n",
      "    url : str, optional\n",
      "        Set the url of the created `.AxesImage`. See `.Artist.set_url`.\n",
      "\n",
      "    Returns\n",
      "    -------\n",
      "    `~matplotlib.image.AxesImage`\n",
      "\n",
      "    Other Parameters\n",
      "    ----------------\n",
      "    data : indexable object, optional\n",
      "        If given, all parameters also accept a string ``s``, which is\n",
      "        interpreted as ``data[s]`` (unless this raises an exception).\n",
      "\n",
      "    **kwargs : `~matplotlib.artist.Artist` properties\n",
      "        These parameters are passed on to the constructor of the\n",
      "        `.AxesImage` artist.\n",
      "\n",
      "    See Also\n",
      "    --------\n",
      "    matshow : Plot a matrix or an array as an image.\n",
      "\n",
      "    Notes\n",
      "    -----\n",
      "\n",
      "    .. note::\n",
      "\n",
      "        This is the :ref:`pyplot wrapper <pyplot_interface>` for `.axes.Axes.imshow`.\n",
      "\n",
      "    Unless *extent* is used, pixel centers will be located at integer\n",
      "    coordinates. In other words: the origin will coincide with the center\n",
      "    of pixel (0, 0).\n",
      "\n",
      "    There are two common representations for RGB images with an alpha\n",
      "    channel:\n",
      "\n",
      "    -   Straight (unassociated) alpha: R, G, and B channels represent the\n",
      "        color of the pixel, disregarding its opacity.\n",
      "    -   Premultiplied (associated) alpha: R, G, and B channels represent\n",
      "        the color of the pixel, adjusted for its opacity by multiplication.\n",
      "\n",
      "    `~matplotlib.pyplot.imshow` expects RGB images adopting the straight\n",
      "    (unassociated) alpha representation.\n",
      "\n"
     ]
    }
   ],
   "source": [
    "help(plt.imshow)"
   ]
  },
  {
   "cell_type": "code",
   "execution_count": 53,
   "metadata": {
    "slideshow": {
     "slide_type": "-"
    }
   },
   "outputs": [
    {
     "name": "stdout",
     "output_type": "stream",
     "text": [
      "[ 0.21661042  0.02749835  1.0740757  ...  1.06260961 -1.54745866\n",
      " -0.81562095]\n"
     ]
    },
    {
     "data": {
      "text/plain": [
       "<matplotlib.colorbar.Colorbar at 0x778bfb5d9a00>"
      ]
     },
     "execution_count": 53,
     "metadata": {},
     "output_type": "execute_result"
    },
    {
     "data": {
      "image/png": "[encoded data removed]",
      "text/plain": [
       "<Figure size 640x480 with 2 Axes>"
      ]
     },
     "metadata": {},
     "output_type": "display_data"
    }
   ],
   "source": [
    "\n",
    "x, y = np.random.randn(2, 100000)\n",
    "\n",
    "H, xedges, yedges = np.histogram2d(x, y, bins=50)\n",
    "\n",
    "extent = [xedges[0], xedges[-1], yedges[0], yedges[-1]]\n",
    "\n",
    "plt.imshow(H, extent=extent)\n",
    "\n",
    "plt.colorbar()\n"
   ]
  },
  {
   "cell_type": "markdown",
   "metadata": {
    "slideshow": {
     "slide_type": "slide"
    }
   },
   "source": [
    "Matrix objects\n",
    "==="
   ]
  },
  {
   "cell_type": "code",
   "execution_count": 65,
   "metadata": {
    "slideshow": {
     "slide_type": "-"
    }
   },
   "outputs": [
    {
     "data": {
      "text/plain": [
       "np.float64(124.99999999999994)"
      ]
     },
     "execution_count": 65,
     "metadata": {},
     "output_type": "execute_result"
    }
   ],
   "source": [
    "x1 = np.array([1, 2, 3], float)\n",
    "\n",
    "x2 = np.asmatrix(x1)\n",
    "\n",
    "A = np.identity(3)\n",
    "\n",
    "A = 5* np.asmatrix(A)\n",
    "\n",
    "B = x2*A # matrix multiplication\n",
    "\n",
    "np.linalg.inv(A)\n",
    "\n",
    "np.linalg.det(A)\n"
   ]
  },
  {
   "cell_type": "markdown",
   "metadata": {
    "slideshow": {
     "slide_type": "-"
    }
   },
   "source": [
    "$*$ represents matrix-matrix matrix-vector or vector-matrix multiplication. "
   ]
  },
  {
   "cell_type": "markdown",
   "metadata": {
    "slideshow": {
     "slide_type": "slide"
    }
   },
   "source": [
    "Numpy capabilities\n",
    "==="
   ]
  },
  {
   "cell_type": "markdown",
   "metadata": {
    "slideshow": {
     "slide_type": "-"
    }
   },
   "source": [
    "* Discrete Fourier Transform (np.fft)\n",
    "* Linear algebra (np.linalg): cholesky, svd, eigenvalues/vectors, matrix inversion, solving equations (LAPACK)\n",
    "* Random sampling (np.random)\n",
    "* statistics: covariance, correlation, variances, histograms\n",
    "* polynomials: root finding, fitting data \n",
    "* Matrix library (np.matlib)\n",
    "* **f2py** - a FORTRAN to Python interface generator"
   ]
  },
  {
   "cell_type": "markdown",
   "metadata": {
    "slideshow": {
     "slide_type": "slide"
    }
   },
   "source": [
    "How fast is numpy?\n",
    "==="
   ]
  },
  {
   "cell_type": "markdown",
   "metadata": {
    "slideshow": {
     "slide_type": "-"
    }
   },
   "source": [
    "* 100 times faster than with a for loop with native Python types\n",
    "* Somewhat slower than a modern FORTRAN/C++ compiler with  -O3 optimisations\n",
    "* comparable speed to Matlab \n",
    "\n",
    "\n",
    "But this is run speed. In development and debugging time, Python is\n",
    "far ahead ofFORTRAN/C++. But if __speed is really critical__ to your code,\n",
    "you can profile your Python code and rewrite slower parts in\n",
    "C/C++/FORTRAN."
   ]
  }
 ],
 "metadata": {
  "celltoolbar": "Slideshow",
  "kernelspec": {
   "display_name": "Python 3 (ipykernel)",
   "language": "python",
   "name": "python3"
  },
  "language_info": {
   "codemirror_mode": {
    "name": "ipython",
    "version": 3
   },
   "file_extension": ".py",
   "mimetype": "text/x-python",
   "name": "python",
   "nbconvert_exporter": "python",
   "pygments_lexer": "ipython3",
   "version": "3.12.3"
  }
 },
 "nbformat": 4,
 "nbformat_minor": 4
}
